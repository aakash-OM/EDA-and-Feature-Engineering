{
 "cells": [
  {
   "cell_type": "markdown",
   "id": "eb2068c2",
   "metadata": {},
   "source": [
    "# Statistical &  based Analysis "
   ]
  },
  {
   "cell_type": "markdown",
   "id": "81613e67",
   "metadata": {},
   "source": [
    "By: Aakash Mittal"
   ]
  },
  {
   "cell_type": "markdown",
   "id": "bf60c8cd",
   "metadata": {},
   "source": [
    "Dataset Name: Visa Dataset\n",
    "Source: https://drive.google.com/file/d/1gnwyUzb2WpefonQZzsq1Q8BwjfV9QvJi/view?usp=sharing"
   ]
  },
  {
   "cell_type": "markdown",
   "id": "7d29c5a6",
   "metadata": {},
   "source": [
    "a) describe, describe().T\n",
    "b) mean, median, mode\n",
    "c) 5 Number Summary\n",
    "d) Box Plot\n",
    "e)variance and standard deviation\n",
    "f)correlation, covariance,skew\n",
    "g)Normal Distribution\n",
    "h)Lognormal Distribution\n",
    "I)Pearson and Spearman Correlation"
   ]
  },
  {
   "cell_type": "code",
   "execution_count": 2,
   "id": "50fc3e9b",
   "metadata": {},
   "outputs": [],
   "source": [
    "import numpy as np\n",
    "import pandas as pd"
   ]
  },
  {
   "cell_type": "code",
   "execution_count": 3,
   "id": "51203c1f",
   "metadata": {
    "scrolled": true
   },
   "outputs": [
    {
     "data": {
      "text/html": [
       "<div>\n",
       "<style scoped>\n",
       "    .dataframe tbody tr th:only-of-type {\n",
       "        vertical-align: middle;\n",
       "    }\n",
       "\n",
       "    .dataframe tbody tr th {\n",
       "        vertical-align: top;\n",
       "    }\n",
       "\n",
       "    .dataframe thead th {\n",
       "        text-align: right;\n",
       "    }\n",
       "</style>\n",
       "<table border=\"1\" class=\"dataframe\">\n",
       "  <thead>\n",
       "    <tr style=\"text-align: right;\">\n",
       "      <th></th>\n",
       "      <th>case_id</th>\n",
       "      <th>continent</th>\n",
       "      <th>education_of_employee</th>\n",
       "      <th>has_job_experience</th>\n",
       "      <th>requires_job_training</th>\n",
       "      <th>no_of_employees</th>\n",
       "      <th>yr_of_estab</th>\n",
       "      <th>region_of_employment</th>\n",
       "      <th>prevailing_wage</th>\n",
       "      <th>unit_of_wage</th>\n",
       "      <th>full_time_position</th>\n",
       "      <th>case_status</th>\n",
       "    </tr>\n",
       "  </thead>\n",
       "  <tbody>\n",
       "    <tr>\n",
       "      <th>0</th>\n",
       "      <td>EZYV01</td>\n",
       "      <td>Asia</td>\n",
       "      <td>High School</td>\n",
       "      <td>N</td>\n",
       "      <td>N</td>\n",
       "      <td>14513</td>\n",
       "      <td>2007</td>\n",
       "      <td>West</td>\n",
       "      <td>592.2029</td>\n",
       "      <td>Hour</td>\n",
       "      <td>Y</td>\n",
       "      <td>Denied</td>\n",
       "    </tr>\n",
       "    <tr>\n",
       "      <th>1</th>\n",
       "      <td>EZYV02</td>\n",
       "      <td>Asia</td>\n",
       "      <td>Master's</td>\n",
       "      <td>Y</td>\n",
       "      <td>N</td>\n",
       "      <td>2412</td>\n",
       "      <td>2002</td>\n",
       "      <td>Northeast</td>\n",
       "      <td>83425.6500</td>\n",
       "      <td>Year</td>\n",
       "      <td>Y</td>\n",
       "      <td>Certified</td>\n",
       "    </tr>\n",
       "    <tr>\n",
       "      <th>2</th>\n",
       "      <td>EZYV03</td>\n",
       "      <td>Asia</td>\n",
       "      <td>Bachelor's</td>\n",
       "      <td>N</td>\n",
       "      <td>Y</td>\n",
       "      <td>44444</td>\n",
       "      <td>2008</td>\n",
       "      <td>West</td>\n",
       "      <td>122996.8600</td>\n",
       "      <td>Year</td>\n",
       "      <td>Y</td>\n",
       "      <td>Denied</td>\n",
       "    </tr>\n",
       "    <tr>\n",
       "      <th>3</th>\n",
       "      <td>EZYV04</td>\n",
       "      <td>Asia</td>\n",
       "      <td>Bachelor's</td>\n",
       "      <td>N</td>\n",
       "      <td>N</td>\n",
       "      <td>98</td>\n",
       "      <td>1897</td>\n",
       "      <td>West</td>\n",
       "      <td>83434.0300</td>\n",
       "      <td>Year</td>\n",
       "      <td>Y</td>\n",
       "      <td>Denied</td>\n",
       "    </tr>\n",
       "    <tr>\n",
       "      <th>4</th>\n",
       "      <td>EZYV05</td>\n",
       "      <td>Africa</td>\n",
       "      <td>Master's</td>\n",
       "      <td>Y</td>\n",
       "      <td>N</td>\n",
       "      <td>1082</td>\n",
       "      <td>2005</td>\n",
       "      <td>South</td>\n",
       "      <td>149907.3900</td>\n",
       "      <td>Year</td>\n",
       "      <td>Y</td>\n",
       "      <td>Certified</td>\n",
       "    </tr>\n",
       "    <tr>\n",
       "      <th>...</th>\n",
       "      <td>...</td>\n",
       "      <td>...</td>\n",
       "      <td>...</td>\n",
       "      <td>...</td>\n",
       "      <td>...</td>\n",
       "      <td>...</td>\n",
       "      <td>...</td>\n",
       "      <td>...</td>\n",
       "      <td>...</td>\n",
       "      <td>...</td>\n",
       "      <td>...</td>\n",
       "      <td>...</td>\n",
       "    </tr>\n",
       "    <tr>\n",
       "      <th>25475</th>\n",
       "      <td>EZYV25476</td>\n",
       "      <td>Asia</td>\n",
       "      <td>Bachelor's</td>\n",
       "      <td>Y</td>\n",
       "      <td>Y</td>\n",
       "      <td>2601</td>\n",
       "      <td>2008</td>\n",
       "      <td>South</td>\n",
       "      <td>77092.5700</td>\n",
       "      <td>Year</td>\n",
       "      <td>Y</td>\n",
       "      <td>Certified</td>\n",
       "    </tr>\n",
       "    <tr>\n",
       "      <th>25476</th>\n",
       "      <td>EZYV25477</td>\n",
       "      <td>Asia</td>\n",
       "      <td>High School</td>\n",
       "      <td>Y</td>\n",
       "      <td>N</td>\n",
       "      <td>3274</td>\n",
       "      <td>2006</td>\n",
       "      <td>Northeast</td>\n",
       "      <td>279174.7900</td>\n",
       "      <td>Year</td>\n",
       "      <td>Y</td>\n",
       "      <td>Certified</td>\n",
       "    </tr>\n",
       "    <tr>\n",
       "      <th>25477</th>\n",
       "      <td>EZYV25478</td>\n",
       "      <td>Asia</td>\n",
       "      <td>Master's</td>\n",
       "      <td>Y</td>\n",
       "      <td>N</td>\n",
       "      <td>1121</td>\n",
       "      <td>1910</td>\n",
       "      <td>South</td>\n",
       "      <td>146298.8500</td>\n",
       "      <td>Year</td>\n",
       "      <td>N</td>\n",
       "      <td>Certified</td>\n",
       "    </tr>\n",
       "    <tr>\n",
       "      <th>25478</th>\n",
       "      <td>EZYV25479</td>\n",
       "      <td>Asia</td>\n",
       "      <td>Master's</td>\n",
       "      <td>Y</td>\n",
       "      <td>Y</td>\n",
       "      <td>1918</td>\n",
       "      <td>1887</td>\n",
       "      <td>West</td>\n",
       "      <td>86154.7700</td>\n",
       "      <td>Year</td>\n",
       "      <td>Y</td>\n",
       "      <td>Certified</td>\n",
       "    </tr>\n",
       "    <tr>\n",
       "      <th>25479</th>\n",
       "      <td>EZYV25480</td>\n",
       "      <td>Asia</td>\n",
       "      <td>Bachelor's</td>\n",
       "      <td>Y</td>\n",
       "      <td>N</td>\n",
       "      <td>3195</td>\n",
       "      <td>1960</td>\n",
       "      <td>Midwest</td>\n",
       "      <td>70876.9100</td>\n",
       "      <td>Year</td>\n",
       "      <td>Y</td>\n",
       "      <td>Certified</td>\n",
       "    </tr>\n",
       "  </tbody>\n",
       "</table>\n",
       "<p>25480 rows × 12 columns</p>\n",
       "</div>"
      ],
      "text/plain": [
       "         case_id continent education_of_employee has_job_experience  \\\n",
       "0         EZYV01      Asia           High School                  N   \n",
       "1         EZYV02      Asia              Master's                  Y   \n",
       "2         EZYV03      Asia            Bachelor's                  N   \n",
       "3         EZYV04      Asia            Bachelor's                  N   \n",
       "4         EZYV05    Africa              Master's                  Y   \n",
       "...          ...       ...                   ...                ...   \n",
       "25475  EZYV25476      Asia            Bachelor's                  Y   \n",
       "25476  EZYV25477      Asia           High School                  Y   \n",
       "25477  EZYV25478      Asia              Master's                  Y   \n",
       "25478  EZYV25479      Asia              Master's                  Y   \n",
       "25479  EZYV25480      Asia            Bachelor's                  Y   \n",
       "\n",
       "      requires_job_training  no_of_employees  yr_of_estab  \\\n",
       "0                         N            14513         2007   \n",
       "1                         N             2412         2002   \n",
       "2                         Y            44444         2008   \n",
       "3                         N               98         1897   \n",
       "4                         N             1082         2005   \n",
       "...                     ...              ...          ...   \n",
       "25475                     Y             2601         2008   \n",
       "25476                     N             3274         2006   \n",
       "25477                     N             1121         1910   \n",
       "25478                     Y             1918         1887   \n",
       "25479                     N             3195         1960   \n",
       "\n",
       "      region_of_employment  prevailing_wage unit_of_wage full_time_position  \\\n",
       "0                     West         592.2029         Hour                  Y   \n",
       "1                Northeast       83425.6500         Year                  Y   \n",
       "2                     West      122996.8600         Year                  Y   \n",
       "3                     West       83434.0300         Year                  Y   \n",
       "4                    South      149907.3900         Year                  Y   \n",
       "...                    ...              ...          ...                ...   \n",
       "25475                South       77092.5700         Year                  Y   \n",
       "25476            Northeast      279174.7900         Year                  Y   \n",
       "25477                South      146298.8500         Year                  N   \n",
       "25478                 West       86154.7700         Year                  Y   \n",
       "25479              Midwest       70876.9100         Year                  Y   \n",
       "\n",
       "      case_status  \n",
       "0          Denied  \n",
       "1       Certified  \n",
       "2          Denied  \n",
       "3          Denied  \n",
       "4       Certified  \n",
       "...           ...  \n",
       "25475   Certified  \n",
       "25476   Certified  \n",
       "25477   Certified  \n",
       "25478   Certified  \n",
       "25479   Certified  \n",
       "\n",
       "[25480 rows x 12 columns]"
      ]
     },
     "execution_count": 3,
     "metadata": {},
     "output_type": "execute_result"
    }
   ],
   "source": [
    "df = pd.read_csv('Visadataset.csv')\n",
    "df"
   ]
  },
  {
   "cell_type": "code",
   "execution_count": 4,
   "id": "87b89fae",
   "metadata": {},
   "outputs": [
    {
     "data": {
      "text/html": [
       "<div>\n",
       "<style scoped>\n",
       "    .dataframe tbody tr th:only-of-type {\n",
       "        vertical-align: middle;\n",
       "    }\n",
       "\n",
       "    .dataframe tbody tr th {\n",
       "        vertical-align: top;\n",
       "    }\n",
       "\n",
       "    .dataframe thead th {\n",
       "        text-align: right;\n",
       "    }\n",
       "</style>\n",
       "<table border=\"1\" class=\"dataframe\">\n",
       "  <thead>\n",
       "    <tr style=\"text-align: right;\">\n",
       "      <th></th>\n",
       "      <th>no_of_employees</th>\n",
       "      <th>yr_of_estab</th>\n",
       "      <th>prevailing_wage</th>\n",
       "    </tr>\n",
       "  </thead>\n",
       "  <tbody>\n",
       "    <tr>\n",
       "      <th>count</th>\n",
       "      <td>25480.000000</td>\n",
       "      <td>25480.000000</td>\n",
       "      <td>25480.000000</td>\n",
       "    </tr>\n",
       "    <tr>\n",
       "      <th>mean</th>\n",
       "      <td>5667.043210</td>\n",
       "      <td>1979.409929</td>\n",
       "      <td>74455.814592</td>\n",
       "    </tr>\n",
       "    <tr>\n",
       "      <th>std</th>\n",
       "      <td>22877.928848</td>\n",
       "      <td>42.366929</td>\n",
       "      <td>52815.942327</td>\n",
       "    </tr>\n",
       "    <tr>\n",
       "      <th>min</th>\n",
       "      <td>-26.000000</td>\n",
       "      <td>1800.000000</td>\n",
       "      <td>2.136700</td>\n",
       "    </tr>\n",
       "    <tr>\n",
       "      <th>25%</th>\n",
       "      <td>1022.000000</td>\n",
       "      <td>1976.000000</td>\n",
       "      <td>34015.480000</td>\n",
       "    </tr>\n",
       "    <tr>\n",
       "      <th>50%</th>\n",
       "      <td>2109.000000</td>\n",
       "      <td>1997.000000</td>\n",
       "      <td>70308.210000</td>\n",
       "    </tr>\n",
       "    <tr>\n",
       "      <th>75%</th>\n",
       "      <td>3504.000000</td>\n",
       "      <td>2005.000000</td>\n",
       "      <td>107735.512500</td>\n",
       "    </tr>\n",
       "    <tr>\n",
       "      <th>max</th>\n",
       "      <td>602069.000000</td>\n",
       "      <td>2016.000000</td>\n",
       "      <td>319210.270000</td>\n",
       "    </tr>\n",
       "  </tbody>\n",
       "</table>\n",
       "</div>"
      ],
      "text/plain": [
       "       no_of_employees   yr_of_estab  prevailing_wage\n",
       "count     25480.000000  25480.000000     25480.000000\n",
       "mean       5667.043210   1979.409929     74455.814592\n",
       "std       22877.928848     42.366929     52815.942327\n",
       "min         -26.000000   1800.000000         2.136700\n",
       "25%        1022.000000   1976.000000     34015.480000\n",
       "50%        2109.000000   1997.000000     70308.210000\n",
       "75%        3504.000000   2005.000000    107735.512500\n",
       "max      602069.000000   2016.000000    319210.270000"
      ]
     },
     "execution_count": 4,
     "metadata": {},
     "output_type": "execute_result"
    }
   ],
   "source": [
    "df.describe()\n",
    "#gives description/stats of numerical data"
   ]
  },
  {
   "cell_type": "code",
   "execution_count": 5,
   "id": "86e65d99",
   "metadata": {},
   "outputs": [
    {
     "data": {
      "text/html": [
       "<div>\n",
       "<style scoped>\n",
       "    .dataframe tbody tr th:only-of-type {\n",
       "        vertical-align: middle;\n",
       "    }\n",
       "\n",
       "    .dataframe tbody tr th {\n",
       "        vertical-align: top;\n",
       "    }\n",
       "\n",
       "    .dataframe thead th {\n",
       "        text-align: right;\n",
       "    }\n",
       "</style>\n",
       "<table border=\"1\" class=\"dataframe\">\n",
       "  <thead>\n",
       "    <tr style=\"text-align: right;\">\n",
       "      <th></th>\n",
       "      <th>count</th>\n",
       "      <th>mean</th>\n",
       "      <th>std</th>\n",
       "      <th>min</th>\n",
       "      <th>25%</th>\n",
       "      <th>50%</th>\n",
       "      <th>75%</th>\n",
       "      <th>max</th>\n",
       "    </tr>\n",
       "  </thead>\n",
       "  <tbody>\n",
       "    <tr>\n",
       "      <th>no_of_employees</th>\n",
       "      <td>25480.0</td>\n",
       "      <td>5667.043210</td>\n",
       "      <td>22877.928848</td>\n",
       "      <td>-26.0000</td>\n",
       "      <td>1022.00</td>\n",
       "      <td>2109.00</td>\n",
       "      <td>3504.0000</td>\n",
       "      <td>602069.00</td>\n",
       "    </tr>\n",
       "    <tr>\n",
       "      <th>yr_of_estab</th>\n",
       "      <td>25480.0</td>\n",
       "      <td>1979.409929</td>\n",
       "      <td>42.366929</td>\n",
       "      <td>1800.0000</td>\n",
       "      <td>1976.00</td>\n",
       "      <td>1997.00</td>\n",
       "      <td>2005.0000</td>\n",
       "      <td>2016.00</td>\n",
       "    </tr>\n",
       "    <tr>\n",
       "      <th>prevailing_wage</th>\n",
       "      <td>25480.0</td>\n",
       "      <td>74455.814592</td>\n",
       "      <td>52815.942327</td>\n",
       "      <td>2.1367</td>\n",
       "      <td>34015.48</td>\n",
       "      <td>70308.21</td>\n",
       "      <td>107735.5125</td>\n",
       "      <td>319210.27</td>\n",
       "    </tr>\n",
       "  </tbody>\n",
       "</table>\n",
       "</div>"
      ],
      "text/plain": [
       "                   count          mean           std        min       25%  \\\n",
       "no_of_employees  25480.0   5667.043210  22877.928848   -26.0000   1022.00   \n",
       "yr_of_estab      25480.0   1979.409929     42.366929  1800.0000   1976.00   \n",
       "prevailing_wage  25480.0  74455.814592  52815.942327     2.1367  34015.48   \n",
       "\n",
       "                      50%          75%        max  \n",
       "no_of_employees   2109.00    3504.0000  602069.00  \n",
       "yr_of_estab       1997.00    2005.0000    2016.00  \n",
       "prevailing_wage  70308.21  107735.5125  319210.27  "
      ]
     },
     "execution_count": 5,
     "metadata": {},
     "output_type": "execute_result"
    }
   ],
   "source": [
    "df.describe().T\n",
    "#return transpose"
   ]
  },
  {
   "cell_type": "code",
   "execution_count": 6,
   "id": "b703da8d",
   "metadata": {},
   "outputs": [
    {
     "data": {
      "text/html": [
       "<div>\n",
       "<style scoped>\n",
       "    .dataframe tbody tr th:only-of-type {\n",
       "        vertical-align: middle;\n",
       "    }\n",
       "\n",
       "    .dataframe tbody tr th {\n",
       "        vertical-align: top;\n",
       "    }\n",
       "\n",
       "    .dataframe thead th {\n",
       "        text-align: right;\n",
       "    }\n",
       "</style>\n",
       "<table border=\"1\" class=\"dataframe\">\n",
       "  <thead>\n",
       "    <tr style=\"text-align: right;\">\n",
       "      <th></th>\n",
       "      <th>case_id</th>\n",
       "      <th>continent</th>\n",
       "      <th>education_of_employee</th>\n",
       "      <th>has_job_experience</th>\n",
       "      <th>requires_job_training</th>\n",
       "      <th>region_of_employment</th>\n",
       "      <th>unit_of_wage</th>\n",
       "      <th>full_time_position</th>\n",
       "      <th>case_status</th>\n",
       "    </tr>\n",
       "  </thead>\n",
       "  <tbody>\n",
       "    <tr>\n",
       "      <th>count</th>\n",
       "      <td>25480</td>\n",
       "      <td>25480</td>\n",
       "      <td>25480</td>\n",
       "      <td>25480</td>\n",
       "      <td>25480</td>\n",
       "      <td>25480</td>\n",
       "      <td>25480</td>\n",
       "      <td>25480</td>\n",
       "      <td>25480</td>\n",
       "    </tr>\n",
       "    <tr>\n",
       "      <th>unique</th>\n",
       "      <td>25480</td>\n",
       "      <td>6</td>\n",
       "      <td>4</td>\n",
       "      <td>2</td>\n",
       "      <td>2</td>\n",
       "      <td>5</td>\n",
       "      <td>4</td>\n",
       "      <td>2</td>\n",
       "      <td>2</td>\n",
       "    </tr>\n",
       "    <tr>\n",
       "      <th>top</th>\n",
       "      <td>EZYV01</td>\n",
       "      <td>Asia</td>\n",
       "      <td>Bachelor's</td>\n",
       "      <td>Y</td>\n",
       "      <td>N</td>\n",
       "      <td>Northeast</td>\n",
       "      <td>Year</td>\n",
       "      <td>Y</td>\n",
       "      <td>Certified</td>\n",
       "    </tr>\n",
       "    <tr>\n",
       "      <th>freq</th>\n",
       "      <td>1</td>\n",
       "      <td>16861</td>\n",
       "      <td>10234</td>\n",
       "      <td>14802</td>\n",
       "      <td>22525</td>\n",
       "      <td>7195</td>\n",
       "      <td>22962</td>\n",
       "      <td>22773</td>\n",
       "      <td>17018</td>\n",
       "    </tr>\n",
       "  </tbody>\n",
       "</table>\n",
       "</div>"
      ],
      "text/plain": [
       "       case_id continent education_of_employee has_job_experience  \\\n",
       "count    25480     25480                 25480              25480   \n",
       "unique   25480         6                     4                  2   \n",
       "top     EZYV01      Asia            Bachelor's                  Y   \n",
       "freq         1     16861                 10234              14802   \n",
       "\n",
       "       requires_job_training region_of_employment unit_of_wage  \\\n",
       "count                  25480                25480        25480   \n",
       "unique                     2                    5            4   \n",
       "top                        N            Northeast         Year   \n",
       "freq                   22525                 7195        22962   \n",
       "\n",
       "       full_time_position case_status  \n",
       "count               25480       25480  \n",
       "unique                  2           2  \n",
       "top                     Y   Certified  \n",
       "freq                22773       17018  "
      ]
     },
     "execution_count": 6,
     "metadata": {},
     "output_type": "execute_result"
    }
   ],
   "source": [
    "#to describe for only obj columns not numerical columns\n",
    "df[df.dtypes[df.dtypes=='object'].index].describe()"
   ]
  },
  {
   "cell_type": "code",
   "execution_count": null,
   "id": "eb4e4084",
   "metadata": {},
   "outputs": [],
   "source": []
  },
  {
   "cell_type": "markdown",
   "id": "7b25dcff",
   "metadata": {},
   "source": [
    "Mean, Median, Mode"
   ]
  },
  {
   "cell_type": "code",
   "execution_count": 11,
   "id": "3671b8b6",
   "metadata": {},
   "outputs": [
    {
     "name": "stdout",
     "output_type": "stream",
     "text": [
      "no_of_employees     5667.043210\n",
      "yr_of_estab         1979.409929\n",
      "prevailing_wage    74455.814592\n",
      "dtype: float64\n"
     ]
    }
   ],
   "source": [
    "print(np.mean(df))"
   ]
  },
  {
   "cell_type": "code",
   "execution_count": 30,
   "id": "77dd54f7",
   "metadata": {},
   "outputs": [
    {
     "name": "stdout",
     "output_type": "stream",
     "text": [
      "2109.0\n"
     ]
    }
   ],
   "source": [
    "from scipy import stats\n",
    "import statistics\n",
    "print(np.median(df['no_of_employees']))"
   ]
  },
  {
   "cell_type": "code",
   "execution_count": 40,
   "id": "47f9aaff",
   "metadata": {},
   "outputs": [
    {
     "name": "stdout",
     "output_type": "stream",
     "text": [
      "Bachelor's\n"
     ]
    }
   ],
   "source": [
    "print(statistics.mode(df['education_of_employee']))"
   ]
  },
  {
   "cell_type": "code",
   "execution_count": null,
   "id": "cf92484c",
   "metadata": {},
   "outputs": [],
   "source": []
  },
  {
   "cell_type": "code",
   "execution_count": null,
   "id": "c1152d8c",
   "metadata": {},
   "outputs": [],
   "source": []
  },
  {
   "cell_type": "markdown",
   "id": "9d9b0e32",
   "metadata": {},
   "source": [
    "*************** finding outlier using \"5 Number Summary\" based on 'prevailing_wage' **************************"
   ]
  },
  {
   "cell_type": "code",
   "execution_count": null,
   "id": "c676da87",
   "metadata": {},
   "outputs": [],
   "source": []
  },
  {
   "cell_type": "code",
   "execution_count": 41,
   "id": "47f1b5e9",
   "metadata": {},
   "outputs": [
    {
     "name": "stdout",
     "output_type": "stream",
     "text": [
      "Value of q1 is: 34015.479999999996  and  value of q3 is: 107735.51250000001\n"
     ]
    }
   ],
   "source": [
    "#find quartile_1(q1), quartile_3, where q1 & q3 are 25 and 75 percentile respectively\n",
    "q1, q3 = np.percentile(df['prevailing_wage'],[25,75])\n",
    "print(f\"Value of q1 is: {q1}  and  value of q3 is: {q3}\")"
   ]
  },
  {
   "cell_type": "code",
   "execution_count": 42,
   "id": "2e08b717",
   "metadata": {},
   "outputs": [
    {
     "data": {
      "text/plain": [
       "73720.03250000002"
      ]
     },
     "execution_count": 42,
     "metadata": {},
     "output_type": "execute_result"
    }
   ],
   "source": [
    "# Inter Quartile Range\n",
    "IQR = q3-q1\n",
    "IQR"
   ]
  },
  {
   "cell_type": "code",
   "execution_count": 43,
   "id": "d2da4c2a",
   "metadata": {},
   "outputs": [
    {
     "name": "stdout",
     "output_type": "stream",
     "text": [
      "Value of Lower fence is: -76564.56875000002  and  value of Upper fence is: 218315.56125000003\n"
     ]
    }
   ],
   "source": [
    "lower_fence = q1-1.5*(IQR)\n",
    "upper_fence = q3+1.5*(IQR)\n",
    "print(f\"Value of Lower fence is: {lower_fence}  and  value of Upper fence is: {upper_fence}\")"
   ]
  },
  {
   "cell_type": "markdown",
   "id": "b9d055c7",
   "metadata": {},
   "source": [
    "\n",
    "It implies value below '-76564.56' and value above '-2844.53' are outliers."
   ]
  },
  {
   "cell_type": "code",
   "execution_count": null,
   "id": "a83806b3",
   "metadata": {},
   "outputs": [],
   "source": []
  },
  {
   "cell_type": "code",
   "execution_count": 68,
   "id": "a5186e6d",
   "metadata": {},
   "outputs": [
    {
     "data": {
      "image/png": "[encoded data removed]",
      "text/plain": [
       "<Figure size 432x288 with 1 Axes>"
      ]
     },
     "metadata": {
      "needs_background": "light"
     },
     "output_type": "display_data"
    }
   ],
   "source": [
    "#Box Plot\n",
    "import seaborn as sns\n",
    "sns.boxplot(df['prevailing_wage'])\n",
    "\n",
    "import warnings\n",
    "warnings.filterwarnings(\"ignore\")"
   ]
  },
  {
   "cell_type": "code",
   "execution_count": null,
   "id": "836353b5",
   "metadata": {},
   "outputs": [],
   "source": []
  },
  {
   "cell_type": "markdown",
   "id": "44686c20",
   "metadata": {},
   "source": [
    "#or we can calculate outliers through quantile\n",
    "\n",
    "Quartiles (4-quantiles): Three quartiles split the data into four parts.\n",
    "Deciles (10-quantiles): Nine deciles split the data into 10 parts.\n",
    "Percentiles (100-quantiles): 99 percentiles split the data into 100 parts."
   ]
  },
  {
   "cell_type": "code",
   "execution_count": 45,
   "id": "a6bbb2a2",
   "metadata": {},
   "outputs": [
    {
     "data": {
      "text/plain": [
       "3743.1470000000004"
      ]
     },
     "execution_count": 45,
     "metadata": {},
     "output_type": "execute_result"
    }
   ],
   "source": [
    "#10% of data \n",
    "df['prevailing_wage'].quantile(0.10)"
   ]
  },
  {
   "cell_type": "code",
   "execution_count": 53,
   "id": "3cb46710",
   "metadata": {},
   "outputs": [
    {
     "data": {
      "text/plain": [
       "107735.51250000001"
      ]
     },
     "execution_count": 53,
     "metadata": {},
     "output_type": "execute_result"
    }
   ],
   "source": [
    "#75% of data\n",
    "df['prevailing_wage'].quantile(0.75)\n",
    "#or q3"
   ]
  },
  {
   "cell_type": "code",
   "execution_count": 47,
   "id": "08148f45",
   "metadata": {},
   "outputs": [
    {
     "data": {
      "text/plain": [
       "2.1367"
      ]
     },
     "execution_count": 47,
     "metadata": {},
     "output_type": "execute_result"
    }
   ],
   "source": [
    "#minimum value\n",
    "df['prevailing_wage'].min()"
   ]
  },
  {
   "cell_type": "code",
   "execution_count": 49,
   "id": "e5c296d4",
   "metadata": {},
   "outputs": [
    {
     "data": {
      "text/plain": [
       "319210.27"
      ]
     },
     "execution_count": 49,
     "metadata": {},
     "output_type": "execute_result"
    }
   ],
   "source": [
    "#maximum value\n",
    "df['prevailing_wage'].max()"
   ]
  },
  {
   "cell_type": "code",
   "execution_count": 50,
   "id": "03297652",
   "metadata": {},
   "outputs": [
    {
     "data": {
      "text/plain": [
       "array([   592.2029,  83425.65  , 122996.86  , ..., 146298.85  ,\n",
       "        86154.77  ,  70876.91  ])"
      ]
     },
     "execution_count": 50,
     "metadata": {},
     "output_type": "execute_result"
    }
   ],
   "source": [
    "df['prevailing_wage'].unique()"
   ]
  },
  {
   "cell_type": "code",
   "execution_count": null,
   "id": "e3f2621c",
   "metadata": {},
   "outputs": [],
   "source": []
  },
  {
   "cell_type": "code",
   "execution_count": null,
   "id": "afc8b36c",
   "metadata": {},
   "outputs": [],
   "source": []
  },
  {
   "cell_type": "markdown",
   "id": "dfb47767",
   "metadata": {},
   "source": [
    "************* Measure of Dispersion: variance, covariance *******************************************"
   ]
  },
  {
   "cell_type": "code",
   "execution_count": null,
   "id": "cd2ee707",
   "metadata": {},
   "outputs": [],
   "source": []
  },
  {
   "cell_type": "code",
   "execution_count": 69,
   "id": "4385cd96",
   "metadata": {
    "scrolled": true
   },
   "outputs": [
    {
     "data": {
      "text/plain": [
       "no_of_employees    5.233791e+08\n",
       "yr_of_estab        1.794886e+03\n",
       "prevailing_wage    2.789414e+09\n",
       "dtype: float64"
      ]
     },
     "execution_count": 69,
     "metadata": {},
     "output_type": "execute_result"
    }
   ],
   "source": [
    "np.var(df)\n",
    "#gives Population Variance"
   ]
  },
  {
   "cell_type": "code",
   "execution_count": 86,
   "id": "f72f1a91",
   "metadata": {},
   "outputs": [
    {
     "data": {
      "text/plain": [
       "2789523763.8756495"
      ]
     },
     "execution_count": 86,
     "metadata": {},
     "output_type": "execute_result"
    }
   ],
   "source": [
    "import statistics\n",
    "statistics.variance(df['prevailing_wage'])\n",
    "#gives Sample Variance"
   ]
  },
  {
   "cell_type": "code",
   "execution_count": 87,
   "id": "878ff293",
   "metadata": {},
   "outputs": [
    {
     "data": {
      "text/plain": [
       "52814.90589711402"
      ]
     },
     "execution_count": 87,
     "metadata": {},
     "output_type": "execute_result"
    }
   ],
   "source": [
    "#standard deviation\n",
    "np.std(df['prevailing_wage'])"
   ]
  },
  {
   "cell_type": "code",
   "execution_count": 90,
   "id": "b9bd4244",
   "metadata": {},
   "outputs": [
    {
     "data": {
      "text/plain": [
       "52815.94232687371"
      ]
     },
     "execution_count": 90,
     "metadata": {},
     "output_type": "execute_result"
    }
   ],
   "source": [
    "#standard deviation by using math lib\n",
    "import math\n",
    "math.sqrt(statistics.variance(df['prevailing_wage']))"
   ]
  },
  {
   "cell_type": "code",
   "execution_count": null,
   "id": "f26d693f",
   "metadata": {},
   "outputs": [],
   "source": []
  },
  {
   "cell_type": "markdown",
   "id": "60b7d208",
   "metadata": {},
   "source": [
    "\"Covariance shows you how the two variables differ, whereas correlation shows you how the two variables are related\""
   ]
  },
  {
   "cell_type": "code",
   "execution_count": 91,
   "id": "39f15eb9",
   "metadata": {},
   "outputs": [
    {
     "data": {
      "text/html": [
       "<div>\n",
       "<style scoped>\n",
       "    .dataframe tbody tr th:only-of-type {\n",
       "        vertical-align: middle;\n",
       "    }\n",
       "\n",
       "    .dataframe tbody tr th {\n",
       "        vertical-align: top;\n",
       "    }\n",
       "\n",
       "    .dataframe thead th {\n",
       "        text-align: right;\n",
       "    }\n",
       "</style>\n",
       "<table border=\"1\" class=\"dataframe\">\n",
       "  <thead>\n",
       "    <tr style=\"text-align: right;\">\n",
       "      <th></th>\n",
       "      <th>no_of_employees</th>\n",
       "      <th>yr_of_estab</th>\n",
       "      <th>prevailing_wage</th>\n",
       "    </tr>\n",
       "  </thead>\n",
       "  <tbody>\n",
       "    <tr>\n",
       "      <th>no_of_employees</th>\n",
       "      <td>1.000000</td>\n",
       "      <td>-0.017770</td>\n",
       "      <td>-0.009523</td>\n",
       "    </tr>\n",
       "    <tr>\n",
       "      <th>yr_of_estab</th>\n",
       "      <td>-0.017770</td>\n",
       "      <td>1.000000</td>\n",
       "      <td>0.012342</td>\n",
       "    </tr>\n",
       "    <tr>\n",
       "      <th>prevailing_wage</th>\n",
       "      <td>-0.009523</td>\n",
       "      <td>0.012342</td>\n",
       "      <td>1.000000</td>\n",
       "    </tr>\n",
       "  </tbody>\n",
       "</table>\n",
       "</div>"
      ],
      "text/plain": [
       "                 no_of_employees  yr_of_estab  prevailing_wage\n",
       "no_of_employees         1.000000    -0.017770        -0.009523\n",
       "yr_of_estab            -0.017770     1.000000         0.012342\n",
       "prevailing_wage        -0.009523     0.012342         1.000000"
      ]
     },
     "execution_count": 91,
     "metadata": {},
     "output_type": "execute_result"
    }
   ],
   "source": [
    "#correlation\n",
    "df.corr()"
   ]
  },
  {
   "cell_type": "code",
   "execution_count": 92,
   "id": "b364d5e3",
   "metadata": {},
   "outputs": [
    {
     "data": {
      "text/html": [
       "<div>\n",
       "<style scoped>\n",
       "    .dataframe tbody tr th:only-of-type {\n",
       "        vertical-align: middle;\n",
       "    }\n",
       "\n",
       "    .dataframe tbody tr th {\n",
       "        vertical-align: top;\n",
       "    }\n",
       "\n",
       "    .dataframe thead th {\n",
       "        text-align: right;\n",
       "    }\n",
       "</style>\n",
       "<table border=\"1\" class=\"dataframe\">\n",
       "  <thead>\n",
       "    <tr style=\"text-align: right;\">\n",
       "      <th></th>\n",
       "      <th>no_of_employees</th>\n",
       "      <th>yr_of_estab</th>\n",
       "      <th>prevailing_wage</th>\n",
       "    </tr>\n",
       "  </thead>\n",
       "  <tbody>\n",
       "    <tr>\n",
       "      <th>no_of_employees</th>\n",
       "      <td>5.233996e+08</td>\n",
       "      <td>-17224.155003</td>\n",
       "      <td>-1.150624e+07</td>\n",
       "    </tr>\n",
       "    <tr>\n",
       "      <th>yr_of_estab</th>\n",
       "      <td>-1.722416e+04</td>\n",
       "      <td>1794.956681</td>\n",
       "      <td>2.761653e+04</td>\n",
       "    </tr>\n",
       "    <tr>\n",
       "      <th>prevailing_wage</th>\n",
       "      <td>-1.150624e+07</td>\n",
       "      <td>27616.530171</td>\n",
       "      <td>2.789524e+09</td>\n",
       "    </tr>\n",
       "  </tbody>\n",
       "</table>\n",
       "</div>"
      ],
      "text/plain": [
       "                 no_of_employees   yr_of_estab  prevailing_wage\n",
       "no_of_employees     5.233996e+08 -17224.155003    -1.150624e+07\n",
       "yr_of_estab        -1.722416e+04   1794.956681     2.761653e+04\n",
       "prevailing_wage    -1.150624e+07  27616.530171     2.789524e+09"
      ]
     },
     "execution_count": 92,
     "metadata": {},
     "output_type": "execute_result"
    }
   ],
   "source": [
    "#covariance\n",
    "df.cov()"
   ]
  },
  {
   "cell_type": "code",
   "execution_count": 11,
   "id": "a34671c0",
   "metadata": {},
   "outputs": [
    {
     "data": {
      "text/plain": [
       "no_of_employees    12.265260\n",
       "yr_of_estab        -2.037301\n",
       "prevailing_wage     0.755776\n",
       "dtype: float64"
      ]
     },
     "execution_count": 11,
     "metadata": {},
     "output_type": "execute_result"
    }
   ],
   "source": [
    "import warnings\n",
    "warnings.filterwarnings('ignore')\n",
    "\n",
    "df.skew()\n",
    "#negative sign shows left Skew"
   ]
  },
  {
   "cell_type": "code",
   "execution_count": null,
   "id": "820db507",
   "metadata": {},
   "outputs": [],
   "source": []
  },
  {
   "cell_type": "markdown",
   "id": "75ae449f",
   "metadata": {},
   "source": [
    " Groupby operations"
   ]
  },
  {
   "cell_type": "code",
   "execution_count": 14,
   "id": "daf3743e",
   "metadata": {
    "scrolled": true
   },
   "outputs": [
    {
     "data": {
      "text/html": [
       "<div>\n",
       "<style scoped>\n",
       "    .dataframe tbody tr th:only-of-type {\n",
       "        vertical-align: middle;\n",
       "    }\n",
       "\n",
       "    .dataframe tbody tr th {\n",
       "        vertical-align: top;\n",
       "    }\n",
       "\n",
       "    .dataframe thead th {\n",
       "        text-align: right;\n",
       "    }\n",
       "</style>\n",
       "<table border=\"1\" class=\"dataframe\">\n",
       "  <thead>\n",
       "    <tr style=\"text-align: right;\">\n",
       "      <th></th>\n",
       "      <th>yr_of_estab</th>\n",
       "      <th>prevailing_wage</th>\n",
       "    </tr>\n",
       "    <tr>\n",
       "      <th>no_of_employees</th>\n",
       "      <th></th>\n",
       "      <th></th>\n",
       "    </tr>\n",
       "  </thead>\n",
       "  <tbody>\n",
       "    <tr>\n",
       "      <th>-26</th>\n",
       "      <td>1979.428571</td>\n",
       "      <td>62422.835114</td>\n",
       "    </tr>\n",
       "    <tr>\n",
       "      <th>-25</th>\n",
       "      <td>1988.400000</td>\n",
       "      <td>91981.700000</td>\n",
       "    </tr>\n",
       "    <tr>\n",
       "      <th>-17</th>\n",
       "      <td>2000.500000</td>\n",
       "      <td>87902.482825</td>\n",
       "    </tr>\n",
       "    <tr>\n",
       "      <th>-14</th>\n",
       "      <td>1999.125000</td>\n",
       "      <td>24469.531363</td>\n",
       "    </tr>\n",
       "    <tr>\n",
       "      <th>-11</th>\n",
       "      <td>1991.111111</td>\n",
       "      <td>77284.718889</td>\n",
       "    </tr>\n",
       "    <tr>\n",
       "      <th>...</th>\n",
       "      <td>...</td>\n",
       "      <td>...</td>\n",
       "    </tr>\n",
       "    <tr>\n",
       "      <th>547172</th>\n",
       "      <td>1838.000000</td>\n",
       "      <td>22859.220000</td>\n",
       "    </tr>\n",
       "    <tr>\n",
       "      <th>579004</th>\n",
       "      <td>1969.000000</td>\n",
       "      <td>103507.010000</td>\n",
       "    </tr>\n",
       "    <tr>\n",
       "      <th>581468</th>\n",
       "      <td>1984.000000</td>\n",
       "      <td>41397.520000</td>\n",
       "    </tr>\n",
       "    <tr>\n",
       "      <th>594472</th>\n",
       "      <td>1887.000000</td>\n",
       "      <td>87144.200000</td>\n",
       "    </tr>\n",
       "    <tr>\n",
       "      <th>602069</th>\n",
       "      <td>2011.000000</td>\n",
       "      <td>25181.630000</td>\n",
       "    </tr>\n",
       "  </tbody>\n",
       "</table>\n",
       "<p>7105 rows × 2 columns</p>\n",
       "</div>"
      ],
      "text/plain": [
       "                 yr_of_estab  prevailing_wage\n",
       "no_of_employees                              \n",
       "-26              1979.428571     62422.835114\n",
       "-25              1988.400000     91981.700000\n",
       "-17              2000.500000     87902.482825\n",
       "-14              1999.125000     24469.531363\n",
       "-11              1991.111111     77284.718889\n",
       "...                      ...              ...\n",
       " 547172          1838.000000     22859.220000\n",
       " 579004          1969.000000    103507.010000\n",
       " 581468          1984.000000     41397.520000\n",
       " 594472          1887.000000     87144.200000\n",
       " 602069          2011.000000     25181.630000\n",
       "\n",
       "[7105 rows x 2 columns]"
      ]
     },
     "execution_count": 14,
     "metadata": {},
     "output_type": "execute_result"
    }
   ],
   "source": [
    "df.groupby('no_of_employees').mean()"
   ]
  },
  {
   "cell_type": "code",
   "execution_count": 15,
   "id": "434b4de8",
   "metadata": {},
   "outputs": [
    {
     "data": {
      "text/html": [
       "<div>\n",
       "<style scoped>\n",
       "    .dataframe tbody tr th:only-of-type {\n",
       "        vertical-align: middle;\n",
       "    }\n",
       "\n",
       "    .dataframe tbody tr th {\n",
       "        vertical-align: top;\n",
       "    }\n",
       "\n",
       "    .dataframe thead th {\n",
       "        text-align: right;\n",
       "    }\n",
       "</style>\n",
       "<table border=\"1\" class=\"dataframe\">\n",
       "  <thead>\n",
       "    <tr style=\"text-align: right;\">\n",
       "      <th></th>\n",
       "      <th>case_id</th>\n",
       "      <th>continent</th>\n",
       "      <th>education_of_employee</th>\n",
       "      <th>has_job_experience</th>\n",
       "      <th>requires_job_training</th>\n",
       "      <th>yr_of_estab</th>\n",
       "      <th>region_of_employment</th>\n",
       "      <th>prevailing_wage</th>\n",
       "      <th>unit_of_wage</th>\n",
       "      <th>full_time_position</th>\n",
       "      <th>case_status</th>\n",
       "    </tr>\n",
       "    <tr>\n",
       "      <th>no_of_employees</th>\n",
       "      <th></th>\n",
       "      <th></th>\n",
       "      <th></th>\n",
       "      <th></th>\n",
       "      <th></th>\n",
       "      <th></th>\n",
       "      <th></th>\n",
       "      <th></th>\n",
       "      <th></th>\n",
       "      <th></th>\n",
       "      <th></th>\n",
       "    </tr>\n",
       "  </thead>\n",
       "  <tbody>\n",
       "    <tr>\n",
       "      <th>-26</th>\n",
       "      <td>7</td>\n",
       "      <td>7</td>\n",
       "      <td>7</td>\n",
       "      <td>7</td>\n",
       "      <td>7</td>\n",
       "      <td>7</td>\n",
       "      <td>7</td>\n",
       "      <td>7</td>\n",
       "      <td>7</td>\n",
       "      <td>7</td>\n",
       "      <td>7</td>\n",
       "    </tr>\n",
       "    <tr>\n",
       "      <th>-25</th>\n",
       "      <td>5</td>\n",
       "      <td>5</td>\n",
       "      <td>5</td>\n",
       "      <td>5</td>\n",
       "      <td>5</td>\n",
       "      <td>5</td>\n",
       "      <td>5</td>\n",
       "      <td>5</td>\n",
       "      <td>5</td>\n",
       "      <td>5</td>\n",
       "      <td>5</td>\n",
       "    </tr>\n",
       "    <tr>\n",
       "      <th>-17</th>\n",
       "      <td>4</td>\n",
       "      <td>4</td>\n",
       "      <td>4</td>\n",
       "      <td>4</td>\n",
       "      <td>4</td>\n",
       "      <td>4</td>\n",
       "      <td>4</td>\n",
       "      <td>4</td>\n",
       "      <td>4</td>\n",
       "      <td>4</td>\n",
       "      <td>4</td>\n",
       "    </tr>\n",
       "    <tr>\n",
       "      <th>-14</th>\n",
       "      <td>8</td>\n",
       "      <td>8</td>\n",
       "      <td>8</td>\n",
       "      <td>8</td>\n",
       "      <td>8</td>\n",
       "      <td>8</td>\n",
       "      <td>8</td>\n",
       "      <td>8</td>\n",
       "      <td>8</td>\n",
       "      <td>8</td>\n",
       "      <td>8</td>\n",
       "    </tr>\n",
       "    <tr>\n",
       "      <th>-11</th>\n",
       "      <td>9</td>\n",
       "      <td>9</td>\n",
       "      <td>9</td>\n",
       "      <td>9</td>\n",
       "      <td>9</td>\n",
       "      <td>9</td>\n",
       "      <td>9</td>\n",
       "      <td>9</td>\n",
       "      <td>9</td>\n",
       "      <td>9</td>\n",
       "      <td>9</td>\n",
       "    </tr>\n",
       "    <tr>\n",
       "      <th>...</th>\n",
       "      <td>...</td>\n",
       "      <td>...</td>\n",
       "      <td>...</td>\n",
       "      <td>...</td>\n",
       "      <td>...</td>\n",
       "      <td>...</td>\n",
       "      <td>...</td>\n",
       "      <td>...</td>\n",
       "      <td>...</td>\n",
       "      <td>...</td>\n",
       "      <td>...</td>\n",
       "    </tr>\n",
       "    <tr>\n",
       "      <th>547172</th>\n",
       "      <td>1</td>\n",
       "      <td>1</td>\n",
       "      <td>1</td>\n",
       "      <td>1</td>\n",
       "      <td>1</td>\n",
       "      <td>1</td>\n",
       "      <td>1</td>\n",
       "      <td>1</td>\n",
       "      <td>1</td>\n",
       "      <td>1</td>\n",
       "      <td>1</td>\n",
       "    </tr>\n",
       "    <tr>\n",
       "      <th>579004</th>\n",
       "      <td>1</td>\n",
       "      <td>1</td>\n",
       "      <td>1</td>\n",
       "      <td>1</td>\n",
       "      <td>1</td>\n",
       "      <td>1</td>\n",
       "      <td>1</td>\n",
       "      <td>1</td>\n",
       "      <td>1</td>\n",
       "      <td>1</td>\n",
       "      <td>1</td>\n",
       "    </tr>\n",
       "    <tr>\n",
       "      <th>581468</th>\n",
       "      <td>1</td>\n",
       "      <td>1</td>\n",
       "      <td>1</td>\n",
       "      <td>1</td>\n",
       "      <td>1</td>\n",
       "      <td>1</td>\n",
       "      <td>1</td>\n",
       "      <td>1</td>\n",
       "      <td>1</td>\n",
       "      <td>1</td>\n",
       "      <td>1</td>\n",
       "    </tr>\n",
       "    <tr>\n",
       "      <th>594472</th>\n",
       "      <td>1</td>\n",
       "      <td>1</td>\n",
       "      <td>1</td>\n",
       "      <td>1</td>\n",
       "      <td>1</td>\n",
       "      <td>1</td>\n",
       "      <td>1</td>\n",
       "      <td>1</td>\n",
       "      <td>1</td>\n",
       "      <td>1</td>\n",
       "      <td>1</td>\n",
       "    </tr>\n",
       "    <tr>\n",
       "      <th>602069</th>\n",
       "      <td>1</td>\n",
       "      <td>1</td>\n",
       "      <td>1</td>\n",
       "      <td>1</td>\n",
       "      <td>1</td>\n",
       "      <td>1</td>\n",
       "      <td>1</td>\n",
       "      <td>1</td>\n",
       "      <td>1</td>\n",
       "      <td>1</td>\n",
       "      <td>1</td>\n",
       "    </tr>\n",
       "  </tbody>\n",
       "</table>\n",
       "<p>7105 rows × 11 columns</p>\n",
       "</div>"
      ],
      "text/plain": [
       "                 case_id  continent  education_of_employee  \\\n",
       "no_of_employees                                              \n",
       "-26                    7          7                      7   \n",
       "-25                    5          5                      5   \n",
       "-17                    4          4                      4   \n",
       "-14                    8          8                      8   \n",
       "-11                    9          9                      9   \n",
       "...                  ...        ...                    ...   \n",
       " 547172                1          1                      1   \n",
       " 579004                1          1                      1   \n",
       " 581468                1          1                      1   \n",
       " 594472                1          1                      1   \n",
       " 602069                1          1                      1   \n",
       "\n",
       "                 has_job_experience  requires_job_training  yr_of_estab  \\\n",
       "no_of_employees                                                           \n",
       "-26                               7                      7            7   \n",
       "-25                               5                      5            5   \n",
       "-17                               4                      4            4   \n",
       "-14                               8                      8            8   \n",
       "-11                               9                      9            9   \n",
       "...                             ...                    ...          ...   \n",
       " 547172                           1                      1            1   \n",
       " 579004                           1                      1            1   \n",
       " 581468                           1                      1            1   \n",
       " 594472                           1                      1            1   \n",
       " 602069                           1                      1            1   \n",
       "\n",
       "                 region_of_employment  prevailing_wage  unit_of_wage  \\\n",
       "no_of_employees                                                        \n",
       "-26                                 7                7             7   \n",
       "-25                                 5                5             5   \n",
       "-17                                 4                4             4   \n",
       "-14                                 8                8             8   \n",
       "-11                                 9                9             9   \n",
       "...                               ...              ...           ...   \n",
       " 547172                             1                1             1   \n",
       " 579004                             1                1             1   \n",
       " 581468                             1                1             1   \n",
       " 594472                             1                1             1   \n",
       " 602069                             1                1             1   \n",
       "\n",
       "                 full_time_position  case_status  \n",
       "no_of_employees                                   \n",
       "-26                               7            7  \n",
       "-25                               5            5  \n",
       "-17                               4            4  \n",
       "-14                               8            8  \n",
       "-11                               9            9  \n",
       "...                             ...          ...  \n",
       " 547172                           1            1  \n",
       " 579004                           1            1  \n",
       " 581468                           1            1  \n",
       " 594472                           1            1  \n",
       " 602069                           1            1  \n",
       "\n",
       "[7105 rows x 11 columns]"
      ]
     },
     "execution_count": 15,
     "metadata": {},
     "output_type": "execute_result"
    }
   ],
   "source": [
    "df.groupby('no_of_employees').count()"
   ]
  },
  {
   "cell_type": "code",
   "execution_count": 17,
   "id": "d1b76a43",
   "metadata": {},
   "outputs": [
    {
     "data": {
      "text/html": [
       "<div>\n",
       "<style scoped>\n",
       "    .dataframe tbody tr th:only-of-type {\n",
       "        vertical-align: middle;\n",
       "    }\n",
       "\n",
       "    .dataframe tbody tr th {\n",
       "        vertical-align: top;\n",
       "    }\n",
       "\n",
       "    .dataframe thead th {\n",
       "        text-align: right;\n",
       "    }\n",
       "</style>\n",
       "<table border=\"1\" class=\"dataframe\">\n",
       "  <thead>\n",
       "    <tr style=\"text-align: right;\">\n",
       "      <th></th>\n",
       "      <th>case_id</th>\n",
       "      <th>continent</th>\n",
       "      <th>education_of_employee</th>\n",
       "      <th>has_job_experience</th>\n",
       "      <th>requires_job_training</th>\n",
       "      <th>no_of_employees</th>\n",
       "      <th>yr_of_estab</th>\n",
       "      <th>region_of_employment</th>\n",
       "      <th>prevailing_wage</th>\n",
       "      <th>unit_of_wage</th>\n",
       "      <th>full_time_position</th>\n",
       "      <th>case_status</th>\n",
       "    </tr>\n",
       "  </thead>\n",
       "  <tbody>\n",
       "    <tr>\n",
       "      <th>3</th>\n",
       "      <td>EZYV04</td>\n",
       "      <td>Asia</td>\n",
       "      <td>Bachelor's</td>\n",
       "      <td>N</td>\n",
       "      <td>N</td>\n",
       "      <td>98</td>\n",
       "      <td>1897</td>\n",
       "      <td>West</td>\n",
       "      <td>83434.03</td>\n",
       "      <td>Year</td>\n",
       "      <td>Y</td>\n",
       "      <td>Denied</td>\n",
       "    </tr>\n",
       "    <tr>\n",
       "      <th>19</th>\n",
       "      <td>EZYV20</td>\n",
       "      <td>Asia</td>\n",
       "      <td>Doctorate</td>\n",
       "      <td>N</td>\n",
       "      <td>N</td>\n",
       "      <td>843</td>\n",
       "      <td>1972</td>\n",
       "      <td>Midwest</td>\n",
       "      <td>79948.12</td>\n",
       "      <td>Year</td>\n",
       "      <td>Y</td>\n",
       "      <td>Certified</td>\n",
       "    </tr>\n",
       "    <tr>\n",
       "      <th>20</th>\n",
       "      <td>EZYV21</td>\n",
       "      <td>Asia</td>\n",
       "      <td>Master's</td>\n",
       "      <td>N</td>\n",
       "      <td>N</td>\n",
       "      <td>880</td>\n",
       "      <td>2008</td>\n",
       "      <td>West</td>\n",
       "      <td>71128.98</td>\n",
       "      <td>Year</td>\n",
       "      <td>Y</td>\n",
       "      <td>Denied</td>\n",
       "    </tr>\n",
       "    <tr>\n",
       "      <th>24</th>\n",
       "      <td>EZYV25</td>\n",
       "      <td>Europe</td>\n",
       "      <td>Doctorate</td>\n",
       "      <td>Y</td>\n",
       "      <td>N</td>\n",
       "      <td>241</td>\n",
       "      <td>1981</td>\n",
       "      <td>Midwest</td>\n",
       "      <td>71286.04</td>\n",
       "      <td>Year</td>\n",
       "      <td>Y</td>\n",
       "      <td>Certified</td>\n",
       "    </tr>\n",
       "    <tr>\n",
       "      <th>26</th>\n",
       "      <td>EZYV27</td>\n",
       "      <td>Asia</td>\n",
       "      <td>Bachelor's</td>\n",
       "      <td>Y</td>\n",
       "      <td>N</td>\n",
       "      <td>756</td>\n",
       "      <td>1995</td>\n",
       "      <td>South</td>\n",
       "      <td>86332.95</td>\n",
       "      <td>Year</td>\n",
       "      <td>Y</td>\n",
       "      <td>Certified</td>\n",
       "    </tr>\n",
       "    <tr>\n",
       "      <th>...</th>\n",
       "      <td>...</td>\n",
       "      <td>...</td>\n",
       "      <td>...</td>\n",
       "      <td>...</td>\n",
       "      <td>...</td>\n",
       "      <td>...</td>\n",
       "      <td>...</td>\n",
       "      <td>...</td>\n",
       "      <td>...</td>\n",
       "      <td>...</td>\n",
       "      <td>...</td>\n",
       "      <td>...</td>\n",
       "    </tr>\n",
       "    <tr>\n",
       "      <th>25452</th>\n",
       "      <td>EZYV25453</td>\n",
       "      <td>Asia</td>\n",
       "      <td>High School</td>\n",
       "      <td>N</td>\n",
       "      <td>N</td>\n",
       "      <td>70</td>\n",
       "      <td>1995</td>\n",
       "      <td>Northeast</td>\n",
       "      <td>84833.89</td>\n",
       "      <td>Year</td>\n",
       "      <td>Y</td>\n",
       "      <td>Denied</td>\n",
       "    </tr>\n",
       "    <tr>\n",
       "      <th>25456</th>\n",
       "      <td>EZYV25457</td>\n",
       "      <td>Asia</td>\n",
       "      <td>Bachelor's</td>\n",
       "      <td>Y</td>\n",
       "      <td>N</td>\n",
       "      <td>998</td>\n",
       "      <td>1996</td>\n",
       "      <td>South</td>\n",
       "      <td>67340.65</td>\n",
       "      <td>Year</td>\n",
       "      <td>Y</td>\n",
       "      <td>Certified</td>\n",
       "    </tr>\n",
       "    <tr>\n",
       "      <th>25460</th>\n",
       "      <td>EZYV25461</td>\n",
       "      <td>Europe</td>\n",
       "      <td>Master's</td>\n",
       "      <td>Y</td>\n",
       "      <td>Y</td>\n",
       "      <td>413</td>\n",
       "      <td>1997</td>\n",
       "      <td>West</td>\n",
       "      <td>8263.47</td>\n",
       "      <td>Year</td>\n",
       "      <td>Y</td>\n",
       "      <td>Certified</td>\n",
       "    </tr>\n",
       "    <tr>\n",
       "      <th>25463</th>\n",
       "      <td>EZYV25464</td>\n",
       "      <td>Asia</td>\n",
       "      <td>High School</td>\n",
       "      <td>N</td>\n",
       "      <td>N</td>\n",
       "      <td>444</td>\n",
       "      <td>1838</td>\n",
       "      <td>Midwest</td>\n",
       "      <td>213189.36</td>\n",
       "      <td>Year</td>\n",
       "      <td>Y</td>\n",
       "      <td>Certified</td>\n",
       "    </tr>\n",
       "    <tr>\n",
       "      <th>25468</th>\n",
       "      <td>EZYV25469</td>\n",
       "      <td>Asia</td>\n",
       "      <td>Bachelor's</td>\n",
       "      <td>N</td>\n",
       "      <td>N</td>\n",
       "      <td>373</td>\n",
       "      <td>2005</td>\n",
       "      <td>Midwest</td>\n",
       "      <td>272715.74</td>\n",
       "      <td>Year</td>\n",
       "      <td>N</td>\n",
       "      <td>Certified</td>\n",
       "    </tr>\n",
       "  </tbody>\n",
       "</table>\n",
       "<p>6235 rows × 12 columns</p>\n",
       "</div>"
      ],
      "text/plain": [
       "         case_id continent education_of_employee has_job_experience  \\\n",
       "3         EZYV04      Asia            Bachelor's                  N   \n",
       "19        EZYV20      Asia             Doctorate                  N   \n",
       "20        EZYV21      Asia              Master's                  N   \n",
       "24        EZYV25    Europe             Doctorate                  Y   \n",
       "26        EZYV27      Asia            Bachelor's                  Y   \n",
       "...          ...       ...                   ...                ...   \n",
       "25452  EZYV25453      Asia           High School                  N   \n",
       "25456  EZYV25457      Asia            Bachelor's                  Y   \n",
       "25460  EZYV25461    Europe              Master's                  Y   \n",
       "25463  EZYV25464      Asia           High School                  N   \n",
       "25468  EZYV25469      Asia            Bachelor's                  N   \n",
       "\n",
       "      requires_job_training  no_of_employees  yr_of_estab  \\\n",
       "3                         N               98         1897   \n",
       "19                        N              843         1972   \n",
       "20                        N              880         2008   \n",
       "24                        N              241         1981   \n",
       "26                        N              756         1995   \n",
       "...                     ...              ...          ...   \n",
       "25452                     N               70         1995   \n",
       "25456                     N              998         1996   \n",
       "25460                     Y              413         1997   \n",
       "25463                     N              444         1838   \n",
       "25468                     N              373         2005   \n",
       "\n",
       "      region_of_employment  prevailing_wage unit_of_wage full_time_position  \\\n",
       "3                     West         83434.03         Year                  Y   \n",
       "19                 Midwest         79948.12         Year                  Y   \n",
       "20                    West         71128.98         Year                  Y   \n",
       "24                 Midwest         71286.04         Year                  Y   \n",
       "26                   South         86332.95         Year                  Y   \n",
       "...                    ...              ...          ...                ...   \n",
       "25452            Northeast         84833.89         Year                  Y   \n",
       "25456                South         67340.65         Year                  Y   \n",
       "25460                 West          8263.47         Year                  Y   \n",
       "25463              Midwest        213189.36         Year                  Y   \n",
       "25468              Midwest        272715.74         Year                  N   \n",
       "\n",
       "      case_status  \n",
       "3          Denied  \n",
       "19      Certified  \n",
       "20         Denied  \n",
       "24      Certified  \n",
       "26      Certified  \n",
       "...           ...  \n",
       "25452      Denied  \n",
       "25456   Certified  \n",
       "25460   Certified  \n",
       "25463   Certified  \n",
       "25468   Certified  \n",
       "\n",
       "[6235 rows x 12 columns]"
      ]
     },
     "execution_count": 17,
     "metadata": {},
     "output_type": "execute_result"
    }
   ],
   "source": [
    "df[df['no_of_employees']<1000]"
   ]
  },
  {
   "cell_type": "code",
   "execution_count": null,
   "id": "d36dfdd8",
   "metadata": {},
   "outputs": [],
   "source": []
  },
  {
   "cell_type": "markdown",
   "id": "51682bdd",
   "metadata": {},
   "source": [
    " ***************** Histogram ***********************"
   ]
  },
  {
   "cell_type": "code",
   "execution_count": null,
   "id": "55c2445f",
   "metadata": {},
   "outputs": [],
   "source": []
  },
  {
   "cell_type": "code",
   "execution_count": 95,
   "id": "658fee35",
   "metadata": {},
   "outputs": [
    {
     "data": {
      "text/plain": [
       "<AxesSubplot:xlabel='prevailing_wage', ylabel='Count'>"
      ]
     },
     "execution_count": 95,
     "metadata": {},
     "output_type": "execute_result"
    },
    {
     "data": {
      "image/png": "[encoded data removed]",
      "text/plain": [
       "<Figure size 432x288 with 1 Axes>"
      ]
     },
     "metadata": {
      "needs_background": "light"
     },
     "output_type": "display_data"
    }
   ],
   "source": [
    "sns.histplot(df['prevailing_wage'])\n",
    "#right-skew (with all positive outliers )"
   ]
  },
  {
   "cell_type": "code",
   "execution_count": 101,
   "id": "68a28d0a",
   "metadata": {},
   "outputs": [
    {
     "data": {
      "text/plain": [
       "<AxesSubplot:xlabel='prevailing_wage', ylabel='Density'>"
      ]
     },
     "execution_count": 101,
     "metadata": {},
     "output_type": "execute_result"
    },
    {
     "data": {
      "image/png": "[encoded data removed]",
      "text/plain": [
       "<Figure size 432x288 with 1 Axes>"
      ]
     },
     "metadata": {
      "needs_background": "light"
     },
     "output_type": "display_data"
    }
   ],
   "source": [
    "import seaborn as sns\n",
    "sns.distplot(df['prevailing_wage'])"
   ]
  },
  {
   "cell_type": "code",
   "execution_count": 103,
   "id": "2af1f8a3",
   "metadata": {},
   "outputs": [
    {
     "data": {
      "text/plain": [
       "<AxesSubplot:xlabel='prevailing_wage', ylabel='Count'>"
      ]
     },
     "execution_count": 103,
     "metadata": {},
     "output_type": "execute_result"
    },
    {
     "data": {
      "image/png": "[encoded data removed]",
      "text/plain": [
       "<Figure size 432x288 with 1 Axes>"
      ]
     },
     "metadata": {
      "needs_background": "light"
     },
     "output_type": "display_data"
    }
   ],
   "source": [
    "sns.histplot(df['prevailing_wage'], kde = True) \n",
    "# by using kde: Kernel density estimator"
   ]
  },
  {
   "cell_type": "code",
   "execution_count": null,
   "id": "4bab199f",
   "metadata": {},
   "outputs": [],
   "source": []
  },
  {
   "cell_type": "code",
   "execution_count": null,
   "id": "2ccd12a8",
   "metadata": {},
   "outputs": [],
   "source": []
  },
  {
   "cell_type": "markdown",
   "id": "64e596a6",
   "metadata": {},
   "source": [
    "******************************** Normai Distribution / Gaussian Distribution ********************************************"
   ]
  },
  {
   "cell_type": "code",
   "execution_count": 26,
   "id": "f9b3bc25",
   "metadata": {},
   "outputs": [
    {
     "data": {
      "text/plain": [
       "['no_of_employees', 'yr_of_estab', 'prevailing_wage']"
      ]
     },
     "execution_count": 26,
     "metadata": {},
     "output_type": "execute_result"
    }
   ],
   "source": [
    "#return only numerical columns in list format\n",
    "num_col = [feature for feature in df.columns if df[feature].dtypes != 'object']\n",
    "num_col\n",
    "# we can place '0' also in place of object"
   ]
  },
  {
   "cell_type": "code",
   "execution_count": 27,
   "id": "b11bf349",
   "metadata": {},
   "outputs": [
    {
     "data": {
      "text/html": [
       "<div>\n",
       "<style scoped>\n",
       "    .dataframe tbody tr th:only-of-type {\n",
       "        vertical-align: middle;\n",
       "    }\n",
       "\n",
       "    .dataframe tbody tr th {\n",
       "        vertical-align: top;\n",
       "    }\n",
       "\n",
       "    .dataframe thead th {\n",
       "        text-align: right;\n",
       "    }\n",
       "</style>\n",
       "<table border=\"1\" class=\"dataframe\">\n",
       "  <thead>\n",
       "    <tr style=\"text-align: right;\">\n",
       "      <th></th>\n",
       "      <th>no_of_employees</th>\n",
       "      <th>yr_of_estab</th>\n",
       "      <th>prevailing_wage</th>\n",
       "    </tr>\n",
       "  </thead>\n",
       "  <tbody>\n",
       "    <tr>\n",
       "      <th>0</th>\n",
       "      <td>14513</td>\n",
       "      <td>2007</td>\n",
       "      <td>592.2029</td>\n",
       "    </tr>\n",
       "    <tr>\n",
       "      <th>1</th>\n",
       "      <td>2412</td>\n",
       "      <td>2002</td>\n",
       "      <td>83425.6500</td>\n",
       "    </tr>\n",
       "    <tr>\n",
       "      <th>2</th>\n",
       "      <td>44444</td>\n",
       "      <td>2008</td>\n",
       "      <td>122996.8600</td>\n",
       "    </tr>\n",
       "    <tr>\n",
       "      <th>3</th>\n",
       "      <td>98</td>\n",
       "      <td>1897</td>\n",
       "      <td>83434.0300</td>\n",
       "    </tr>\n",
       "    <tr>\n",
       "      <th>4</th>\n",
       "      <td>1082</td>\n",
       "      <td>2005</td>\n",
       "      <td>149907.3900</td>\n",
       "    </tr>\n",
       "    <tr>\n",
       "      <th>...</th>\n",
       "      <td>...</td>\n",
       "      <td>...</td>\n",
       "      <td>...</td>\n",
       "    </tr>\n",
       "    <tr>\n",
       "      <th>25475</th>\n",
       "      <td>2601</td>\n",
       "      <td>2008</td>\n",
       "      <td>77092.5700</td>\n",
       "    </tr>\n",
       "    <tr>\n",
       "      <th>25476</th>\n",
       "      <td>3274</td>\n",
       "      <td>2006</td>\n",
       "      <td>279174.7900</td>\n",
       "    </tr>\n",
       "    <tr>\n",
       "      <th>25477</th>\n",
       "      <td>1121</td>\n",
       "      <td>1910</td>\n",
       "      <td>146298.8500</td>\n",
       "    </tr>\n",
       "    <tr>\n",
       "      <th>25478</th>\n",
       "      <td>1918</td>\n",
       "      <td>1887</td>\n",
       "      <td>86154.7700</td>\n",
       "    </tr>\n",
       "    <tr>\n",
       "      <th>25479</th>\n",
       "      <td>3195</td>\n",
       "      <td>1960</td>\n",
       "      <td>70876.9100</td>\n",
       "    </tr>\n",
       "  </tbody>\n",
       "</table>\n",
       "<p>25480 rows × 3 columns</p>\n",
       "</div>"
      ],
      "text/plain": [
       "       no_of_employees  yr_of_estab  prevailing_wage\n",
       "0                14513         2007         592.2029\n",
       "1                 2412         2002       83425.6500\n",
       "2                44444         2008      122996.8600\n",
       "3                   98         1897       83434.0300\n",
       "4                 1082         2005      149907.3900\n",
       "...                ...          ...              ...\n",
       "25475             2601         2008       77092.5700\n",
       "25476             3274         2006      279174.7900\n",
       "25477             1121         1910      146298.8500\n",
       "25478             1918         1887       86154.7700\n",
       "25479             3195         1960       70876.9100\n",
       "\n",
       "[25480 rows x 3 columns]"
      ]
     },
     "execution_count": 27,
     "metadata": {},
     "output_type": "execute_result"
    }
   ],
   "source": [
    "df[num_col]"
   ]
  },
  {
   "cell_type": "code",
   "execution_count": null,
   "id": "e5948717",
   "metadata": {},
   "outputs": [],
   "source": []
  },
  {
   "cell_type": "code",
   "execution_count": 30,
   "id": "31ca455a",
   "metadata": {},
   "outputs": [],
   "source": [
    "from scipy.stats import normaltest\n",
    "import seaborn as sns"
   ]
  },
  {
   "cell_type": "code",
   "execution_count": 36,
   "id": "1487457c",
   "metadata": {},
   "outputs": [
    {
     "data": {
      "text/plain": [
       "NormaltestResult(statistic=2315.646633847051, pvalue=0.0)"
      ]
     },
     "execution_count": 36,
     "metadata": {},
     "output_type": "execute_result"
    }
   ],
   "source": [
    "#bring out p-value\n",
    "normaltest(df['prevailing_wage'])"
   ]
  },
  {
   "cell_type": "code",
   "execution_count": 37,
   "id": "8329a295",
   "metadata": {},
   "outputs": [
    {
     "data": {
      "text/plain": [
       "0.0"
      ]
     },
     "execution_count": 37,
     "metadata": {},
     "output_type": "execute_result"
    }
   ],
   "source": [
    "#bring out p-value\n",
    "normaltest(df['prevailing_wage'])[1]\n",
    "\n",
    "# if p-value>0.5 -> 'Normally distributed'\n",
    "# if p-value<0.5 -> 'Not Normally distributed'"
   ]
  },
  {
   "cell_type": "code",
   "execution_count": 39,
   "id": "92e13bdb",
   "metadata": {},
   "outputs": [
    {
     "data": {
      "text/plain": [
       "<AxesSubplot:xlabel='prevailing_wage', ylabel='Density'>"
      ]
     },
     "execution_count": 39,
     "metadata": {},
     "output_type": "execute_result"
    },
    {
     "data": {
      "image/png": "[encoded data removed]",
      "text/plain": [
       "<Figure size 432x288 with 1 Axes>"
      ]
     },
     "metadata": {
      "needs_background": "light"
     },
     "output_type": "display_data"
    }
   ],
   "source": [
    "sns.distplot(df['prevailing_wage'])"
   ]
  },
  {
   "cell_type": "code",
   "execution_count": null,
   "id": "3d0ed72d",
   "metadata": {},
   "outputs": [],
   "source": []
  },
  {
   "cell_type": "code",
   "execution_count": null,
   "id": "991a9d90",
   "metadata": {},
   "outputs": [],
   "source": [
    "#Another example of Normal distribution"
   ]
  },
  {
   "cell_type": "code",
   "execution_count": 123,
   "id": "24cf508a",
   "metadata": {},
   "outputs": [],
   "source": [
    "nd = np.random.normal(0.4, 0.5, 1000)  #np.random.normal(loc=0.0, scale=1.0, size=None)"
   ]
  },
  {
   "cell_type": "code",
   "execution_count": 116,
   "id": "3f830e8f",
   "metadata": {
    "scrolled": false
   },
   "outputs": [
    {
     "data": {
      "text/plain": [
       "array([ 1.10112706,  0.51839377,  1.16664921,  0.8043974 ,  1.23916954,\n",
       "        0.69798763,  0.89192927,  1.02279937,  0.39801573,  1.24093292,\n",
       "        1.14557895,  1.0135798 ,  0.96001106,  0.58059604,  0.68480482,\n",
       "        0.80368738,  1.01665774,  0.82031618,  0.83509495,  1.32305841,\n",
       "        1.09678937,  0.31392109,  0.43905201,  0.7873513 ,  1.15442152,\n",
       "        0.65628589,  1.22855037,  0.66817243,  0.94920492,  0.45032661,\n",
       "        0.78455082,  1.58986101,  0.90863455,  1.35494642,  1.12892262,\n",
       "        0.80305609,  1.14363019,  0.61086702,  0.55394337,  1.86089016,\n",
       "        0.70932311,  0.71671376,  1.49249322,  0.60230217,  1.00405105,\n",
       "        1.26832191,  0.31513316,  0.77659202,  0.33656014,  1.04290703,\n",
       "        0.36424334,  1.6432922 ,  1.52052143,  1.2384976 ,  0.4975602 ,\n",
       "        0.88879907,  1.12370357,  0.97210797,  0.69910846,  1.10565348,\n",
       "        0.39700219,  1.52108174,  0.61474296,  0.84733751,  0.44421333,\n",
       "        0.50428341,  1.89107075,  0.31898373,  0.4044159 ,  0.81393813,\n",
       "        1.16238131,  0.75232205,  0.42366419,  1.09924928,  1.65830888,\n",
       "        1.99995103,  1.26648754,  0.37960271,  0.74701757,  0.37685481,\n",
       "        0.54876383,  0.66609424,  1.01394154,  0.78570242,  0.94358461,\n",
       "        1.25506247,  1.32106166, -0.15005336,  1.30201382,  0.14215759,\n",
       "        0.31080412,  0.85015804,  0.33001066,  1.40138239,  1.08951624,\n",
       "        0.81972357,  0.70889407,  1.02982389,  1.26097489,  0.99271829,\n",
       "        0.72533393,  0.3000449 ,  0.24569977,  0.30366002,  1.04770699,\n",
       "        0.48350786,  0.67069415,  1.11076443,  0.36257003,  0.36233695,\n",
       "        0.55784261,  1.87181746,  1.09636395,  0.56061843,  1.15644808,\n",
       "        1.25543439,  0.25657177,  0.16089601,  1.17105803,  0.56109239,\n",
       "        1.49899766,  1.33567649,  1.16738881,  1.30206061,  0.64447913,\n",
       "        1.82923103,  0.8950769 ,  0.73112986,  1.26422755,  1.65613551,\n",
       "        1.15259368,  0.54251897,  1.11637801,  0.89388401,  0.92759231,\n",
       "        0.74611431,  0.74355351,  0.67888989,  0.50249221,  0.67642244,\n",
       "        0.94718086,  0.92984389,  0.84700081,  0.56147168,  0.55131114,\n",
       "        0.89231711,  0.10372248,  1.40643212,  0.18819716,  0.73713865,\n",
       "        0.53398138,  1.40411919,  1.41669408,  0.5891734 ,  0.64919149,\n",
       "        0.74928545,  1.13186744,  1.22894818,  0.86995719,  0.71842534,\n",
       "        0.74313327,  0.60765048,  1.32013752,  0.98390105,  1.0840609 ,\n",
       "        1.56026998,  1.361887  ,  1.03556901,  1.38944702,  1.16735355,\n",
       "        0.83494941,  1.34310547,  1.27613474,  1.09517481,  0.99307535,\n",
       "        0.83433666,  0.75813247,  0.58101121,  1.05068162,  1.52637651,\n",
       "        0.56509643,  0.93644688,  0.74587786,  0.78583366,  1.15881844,\n",
       "        1.38153309,  0.54958134,  1.78099491,  1.86944598,  0.56373115,\n",
       "        0.52741993,  0.90378234,  0.94143659,  0.75263929,  0.90449064,\n",
       "        0.79540801,  0.60494557,  0.83804912,  0.76734484,  0.86049985,\n",
       "        1.01286189, -0.10667186, -0.10521921,  0.60246117,  1.14135262,\n",
       "        0.63736209,  0.39373194,  0.8392948 ,  1.25183144,  1.48127562,\n",
       "        0.75135292,  0.62085035,  1.10328837,  0.95718389,  0.70509547,\n",
       "        0.95809626,  1.2275708 ,  0.76663363,  0.67526374,  0.57878978,\n",
       "        1.05224727,  0.8230415 ,  0.93908727,  0.86339588,  0.86075005,\n",
       "        1.36495628,  0.13784364,  0.88822181,  0.27443347,  0.84890254,\n",
       "        1.09268221,  1.32378889,  1.29541237,  0.69369251,  1.55627213,\n",
       "        1.35784053,  1.24895857,  0.89209648,  1.0438492 ,  0.23345895,\n",
       "        0.95084388,  0.87307701,  0.41196781,  0.35121173,  0.39854648,\n",
       "        0.85212304,  0.85473155,  1.52037259,  0.62338737,  1.03962034,\n",
       "        0.92047961,  1.05732024,  1.37984526,  2.02172979,  1.22209386,\n",
       "        0.44503758,  1.9115578 ,  0.2172601 , -0.10518616,  1.62742735,\n",
       "        1.01669551,  0.73264273,  0.43140516,  1.0286206 ,  1.34101102,\n",
       "        0.23261737,  1.85430609,  0.99290414,  1.51570167,  1.44974   ,\n",
       "        0.69069772,  0.86887718,  0.24940524,  0.63910862,  0.42707991,\n",
       "        1.17964609,  0.82508792,  0.28740885,  0.69342214,  0.43349043,\n",
       "        1.24637046,  0.2329249 ,  0.88250077,  0.5493305 ,  1.15608566,\n",
       "        1.29869974,  1.10948615,  0.3837574 ,  2.19279915,  1.1952152 ,\n",
       "        0.76065136,  0.72992266,  1.14737655,  0.60103318,  0.73408053,\n",
       "        0.74249601,  0.91721585,  1.15768759,  1.06447299,  0.7544071 ,\n",
       "        0.9982628 ,  0.90817294,  1.11079377,  1.09480902,  1.38453242,\n",
       "        1.47249208,  0.84548197,  1.51424143,  1.35852988,  0.28222084,\n",
       "        1.31668743,  0.93369314,  1.51558057,  1.59885749,  1.03147861,\n",
       "        1.13679925,  0.22506501,  0.69404294,  0.6410718 ,  1.08670881,\n",
       "        0.52048945,  0.65111705,  0.7253196 ,  1.21504517,  1.70014717,\n",
       "        1.36586315,  1.5814744 ,  0.48562386,  0.48203891,  0.60524926,\n",
       "        1.10632576,  0.36174179,  0.28348713,  0.1315418 ,  0.54205469,\n",
       "        0.67976976,  1.78038706,  0.72409609,  0.96548701, -0.09010087,\n",
       "        1.19610254,  1.1983125 , -0.11078361,  0.78222353,  1.30725446,\n",
       "        1.0190245 ,  1.01887125,  0.96912434,  0.83399119,  1.14992874,\n",
       "        0.96367536,  1.07320483,  0.53510415,  0.18049796,  0.87398953,\n",
       "        0.56116152,  1.72019718,  1.24879285,  0.71958219,  0.23413496,\n",
       "        0.8749017 ,  1.05865985,  0.49225909,  0.64298611,  1.0511752 ,\n",
       "        1.3609935 ,  0.92742337,  0.48584086,  0.6843463 ,  0.69334505,\n",
       "        1.30258633,  0.73236965,  0.59919903,  0.10760095,  0.48242915,\n",
       "        0.92412161,  0.6925196 ,  0.47256201,  1.25302191,  0.56226388,\n",
       "        0.4496148 ,  0.65208629,  1.0372477 ,  0.32131573,  1.10829018,\n",
       "        0.58926365,  1.19022986,  0.88528042,  1.11772316,  1.34742692,\n",
       "        1.15735148,  0.38167723,  0.26379485,  1.33381191,  0.8971492 ,\n",
       "        0.78644862,  0.92370398,  1.16697879,  0.86907758,  1.11564465,\n",
       "        0.74678881,  1.16897622,  0.78593683,  0.49952151,  0.54706982,\n",
       "        0.86135166,  0.98364683,  1.75929561,  1.36303594,  0.94623581,\n",
       "        0.93468839,  0.2864945 ,  1.05589711,  1.13630361,  1.01813984,\n",
       "        0.84477776,  1.33208828,  0.50819009,  1.19243013,  0.56647464,\n",
       "        1.39399802,  1.32102568,  1.0660227 ,  0.92241326,  0.51292602,\n",
       "        1.15563991,  1.35864116,  0.45663101, -0.31027537,  0.30824347,\n",
       "        1.21383402,  1.08532445,  1.39586821,  0.78087518,  0.2804978 ,\n",
       "        2.0776383 ,  1.24146529,  0.41062139,  1.00948295,  0.75015177,\n",
       "        0.73201678,  1.38116279,  1.37755387,  0.97313162,  1.22404023,\n",
       "        0.15455483,  1.30660369,  1.05793901, -0.15395334,  0.47926036,\n",
       "        1.2964461 ,  1.09643127,  1.08462208,  1.15644382,  0.08891831,\n",
       "        1.48190277,  0.15824308,  1.02024748,  0.85889957,  1.23400487,\n",
       "        1.25547542,  1.03256592,  0.69586043,  0.30548754,  0.15917565,\n",
       "        0.76666135,  1.23604305,  0.37957853,  0.77319156,  1.20380873,\n",
       "        1.33076368,  0.36119732,  0.89894792,  1.82349053,  1.73077396,\n",
       "        1.29405127,  0.85140608,  0.47752829,  1.06405907,  0.2172553 ,\n",
       "        0.5073605 ,  0.96826451,  0.95838947,  1.27065769,  0.19175715,\n",
       "        0.9827493 ,  0.81309899,  0.98194627,  0.66307218,  1.75748943,\n",
       "        0.88745777,  1.47290958,  1.13125903,  1.16575217,  0.97025804,\n",
       "        1.20103979,  0.33923651,  0.67509395,  0.9294563 ,  1.38611903,\n",
       "        1.34122312,  0.54897435,  0.71488604,  0.71516605,  1.07388639,\n",
       "        1.17565918,  0.30384369,  0.79078242,  0.49774587,  0.31200629,\n",
       "        0.99704731,  0.44603927,  1.27889547,  2.11724423,  1.15863256,\n",
       "        1.45215901,  0.63356587,  1.24841228,  1.14290477,  0.69227582,\n",
       "        0.43331286,  0.81634395,  0.44136057,  0.50031964,  1.07729924,\n",
       "        2.0104433 ,  1.01406928,  1.01696954,  0.69641872,  0.34609297,\n",
       "        0.36957828,  0.50193958,  0.76738325,  1.03160708,  1.22003308,\n",
       "        1.2732894 ,  0.95907499,  0.316535  ,  0.68369764,  1.27164061,\n",
       "        0.65210435,  1.16110596,  0.70085291,  0.69280601,  1.22276998,\n",
       "        0.86363468,  1.43187025,  0.84966052,  1.61223089,  1.22357596,\n",
       "        0.87544222,  1.16712084,  0.83072648,  0.4307838 ,  0.42640177,\n",
       "        0.6037602 ,  1.40384372,  1.05508546,  0.94739953,  0.91413779,\n",
       "        0.5119595 ,  0.35245678,  0.58113049,  1.08041024,  0.0499524 ,\n",
       "        0.72290503,  0.98875762,  0.95781211,  0.75261976,  1.7044507 ,\n",
       "        1.18549066,  0.76045947,  1.48448024,  0.13879541,  0.5622725 ,\n",
       "        0.17153044,  0.45730568,  1.65866939,  0.92227585,  1.12556744,\n",
       "        1.09414125,  0.6338712 ,  1.19322192,  0.84932793,  0.2065742 ,\n",
       "        0.60385638,  1.28320319,  1.66163668,  1.05299929,  0.99087358,\n",
       "        1.60189528,  1.06313709,  1.40067089,  0.83164812,  0.15439036,\n",
       "        1.03264622,  0.36376176,  1.44684592,  1.82993554,  0.90073786,\n",
       "        1.51678414,  0.54817145,  0.42519547,  1.46604698,  1.06570078,\n",
       "        0.59408525,  0.71731839,  1.28936255,  0.69677443,  0.85131123,\n",
       "        0.92358003,  1.02207854,  1.08186864,  0.77922412,  0.66167146,\n",
       "        1.56947449,  1.12716101,  1.27404635,  0.95003809,  0.65379071,\n",
       "        0.99900777,  1.14617938,  0.06187982,  0.57375849,  1.55718427,\n",
       "        1.76735257, -0.02124887,  0.78308575,  0.31873339,  1.5048312 ,\n",
       "        1.06487556,  0.6024515 ,  1.66771338,  1.08902809,  1.60309366,\n",
       "        0.16169355,  1.4770895 ,  0.68545313,  1.03557792,  0.98464069,\n",
       "        1.03590085,  1.27106031,  1.31123303,  0.98178157,  1.4149077 ,\n",
       "        0.58069474,  0.97659765,  0.5857784 ,  1.11652392,  0.79289128,\n",
       "        0.72904187,  0.69068199,  0.60619581,  0.84775759,  1.51022125,\n",
       "        1.14413544,  1.18001672,  1.05408148,  0.75130768,  0.90096656,\n",
       "        0.6138511 ,  0.94791239,  0.88497818,  0.8027362 ,  1.3543739 ,\n",
       "        0.57311614,  1.12904457,  1.11690104,  0.90981337,  0.59030197,\n",
       "        0.6789535 ,  0.93362619,  1.92634381,  0.32423417,  1.1367903 ,\n",
       "        0.79896928,  1.16790581,  0.36204099,  0.76184086,  1.1990323 ,\n",
       "        0.73755368,  1.86850337,  0.26882836,  1.05701244,  1.19731582,\n",
       "        0.82599589,  1.69717389,  0.39785592,  0.95712458,  1.22720234,\n",
       "        0.48235044,  1.14645   ,  1.22515316,  1.40741204,  1.08876258,\n",
       "        0.74397851,  0.94989588,  0.8500833 ,  1.51373822,  0.68122172,\n",
       "        1.22049731,  1.39087625,  0.48414301,  0.30121089,  0.74121444,\n",
       "        0.86437877,  0.92591197,  1.56153309,  1.06573602,  0.85405794,\n",
       "        1.2801448 ,  1.58271477,  0.32259408,  0.99396495,  0.98620759,\n",
       "        1.30185853,  0.93372125,  1.0653626 ,  0.94441101,  0.26405628,\n",
       "        0.94113517,  0.32018608,  0.03074235,  0.3550416 ,  1.39880651,\n",
       "        1.05899147,  1.05451825,  1.00773787,  0.64032748,  0.71308815,\n",
       "        0.93364354,  1.48250707,  0.52370817,  1.14249501,  0.43057965,\n",
       "        1.07155691,  0.47596313,  1.17740554,  1.10108084, -0.17196931,\n",
       "        0.5650178 ,  0.42743317,  0.59314198,  0.97311865,  1.48801304,\n",
       "        0.73871079,  1.23754588,  0.60843789,  0.58966655,  0.93807969,\n",
       "        0.77989237,  0.63335771,  0.91605132,  0.56354398,  1.03212175,\n",
       "        1.63151452,  0.26431963,  1.81383888,  1.24138543,  0.6161712 ,\n",
       "        0.25291987, -0.06979608,  0.82935881,  1.36313591,  1.41346434,\n",
       "        0.44768591,  1.60744247,  1.02691451,  1.07812593,  1.31134277,\n",
       "        1.513253  ,  1.36517866,  1.53810096,  0.75116701,  0.68574207,\n",
       "        0.92526654,  0.17065636, -0.0267207 ,  0.10745764,  1.49976784,\n",
       "        1.03893791,  0.49534292,  0.22943093,  0.76231388,  1.03308513,\n",
       "        0.94058131,  0.92042234,  0.65042863,  0.53219167,  1.11197713,\n",
       "        0.47090638,  0.89311976,  1.09551308,  0.93228324,  0.72841995,\n",
       "        1.06681796,  0.47278448,  0.00657193,  0.97966929,  0.22690322,\n",
       "        0.57205491,  0.89566261,  0.36014089,  1.0477254 ,  0.99954327,\n",
       "        0.98192158,  0.67001127,  0.4067432 ,  1.47070358,  1.01064431,\n",
       "        0.16504426,  1.76107226,  0.3639656 ,  0.87605422,  1.63048379,\n",
       "        0.74007027,  0.43439054,  0.93302477, -0.16438018,  0.74858116,\n",
       "        0.39119885,  1.08897347,  1.34346638,  1.11746497,  1.45287729,\n",
       "        0.68933729,  1.00258156,  1.16367551,  1.01843197,  0.78077792,\n",
       "        0.41265461,  1.29217273,  0.8431358 ,  1.53478505,  1.05032867,\n",
       "        0.96691093,  1.24142547,  1.46880099,  1.26748265,  1.30224102,\n",
       "        0.18463896,  1.12621319,  1.04689523,  1.84044646,  0.87899594,\n",
       "        0.43653589,  0.70309715,  1.24758854,  0.28438196, -0.015694  ,\n",
       "        0.37345457,  1.75401531,  0.38667335,  1.8399505 ,  1.08120969,\n",
       "        0.79661039,  0.70301616,  0.61168999,  0.68560881,  0.86884143,\n",
       "        1.59527497,  0.70474331,  0.85370585,  1.09880819,  0.66328802,\n",
       "        0.38653669,  0.08605459,  0.86363005,  0.09930724,  0.91577718,\n",
       "        1.08646724,  0.8059194 ,  0.96807162,  0.60944858,  0.81549823,\n",
       "        1.37442081,  0.71654011,  0.50889063,  0.92408433,  1.20834387,\n",
       "        1.23681842,  0.58595949,  0.76480779,  0.69013917,  0.08657872,\n",
       "        0.78625719,  0.71353154,  0.86833342,  0.49359802,  1.06242809,\n",
       "        0.87833338,  0.78798318,  0.6103477 ,  0.89884177,  0.32072795,\n",
       "       -0.25507745,  0.05493387,  0.94099569,  1.37353639,  0.87067043,\n",
       "        0.47902894,  1.81839751,  0.41840641,  0.68142264,  0.98521127,\n",
       "        1.26397757,  0.66555844,  0.98079489,  0.57070721,  0.93359244,\n",
       "        0.68252151,  0.88461863,  1.37360406,  0.84191737,  1.78985804,\n",
       "        0.48368744,  0.81119251,  0.69230373, -0.24554438,  1.59301102,\n",
       "        0.97930138,  0.68634609,  0.8464485 ,  0.20115792,  0.91891278,\n",
       "        0.33380683,  0.86138755,  1.10274731,  1.3789297 , -0.09735499,\n",
       "        1.27913583,  0.83660114,  0.57354478,  1.48345478,  0.78511881,\n",
       "        0.92688495,  0.69539073,  0.81384089,  1.02216355,  0.47436102,\n",
       "        0.94145834,  0.31719974,  1.03773993,  0.85851856,  0.82552062,\n",
       "        1.0816236 ,  1.00686125,  1.05291189,  0.57336242,  0.80998687,\n",
       "       -0.00878409,  0.52823963,  1.21341537,  0.28588179,  1.25886583,\n",
       "        1.80071541,  0.52643664,  0.79025497,  0.54734889,  1.21037747,\n",
       "        0.57774663,  1.03482512, -0.0662313 ,  1.2857688 ,  1.09624042,\n",
       "        1.88968476,  0.30173701,  0.464093  ,  0.38342017,  1.06652195,\n",
       "        1.38823485,  1.16735551,  0.5669469 ,  0.58926238,  0.27767463,\n",
       "        1.10224562,  0.96825074,  0.761662  ,  1.45436534,  0.3333557 ,\n",
       "        0.76756317,  1.49764495,  2.08700451,  0.96412715,  0.44884756,\n",
       "        1.17935098,  0.47450338,  0.99761871,  1.11447302, -0.20410655,\n",
       "        0.85102997,  0.47387042,  1.33989009,  0.41949915,  0.60455177,\n",
       "        0.98861093, -0.12928901,  0.59973428,  1.05915681,  0.47983054])"
      ]
     },
     "execution_count": 116,
     "metadata": {},
     "output_type": "execute_result"
    }
   ],
   "source": [
    "nd"
   ]
  },
  {
   "cell_type": "code",
   "execution_count": 124,
   "id": "97180f66",
   "metadata": {},
   "outputs": [
    {
     "data": {
      "text/plain": [
       "<AxesSubplot:ylabel='Count'>"
      ]
     },
     "execution_count": 124,
     "metadata": {},
     "output_type": "execute_result"
    },
    {
     "data": {
      "image/png": "[encoded data removed]",
      "text/plain": [
       "<Figure size 432x288 with 1 Axes>"
      ]
     },
     "metadata": {
      "needs_background": "light"
     },
     "output_type": "display_data"
    }
   ],
   "source": [
    "sns.histplot(nd, kde = True)"
   ]
  },
  {
   "cell_type": "code",
   "execution_count": null,
   "id": "238375e9",
   "metadata": {},
   "outputs": [],
   "source": []
  },
  {
   "cell_type": "code",
   "execution_count": null,
   "id": "95b8e9b6",
   "metadata": {},
   "outputs": [],
   "source": []
  },
  {
   "cell_type": "markdown",
   "id": "0cc8b7eb",
   "metadata": {},
   "source": [
    "************************** Log Normal Distribution *********************************"
   ]
  },
  {
   "cell_type": "code",
   "execution_count": 135,
   "id": "7936aa93",
   "metadata": {},
   "outputs": [],
   "source": [
    "nd = np.random.lognormal(5, 1, 100) #np.random.lognormal(mean(mu), sigma, size)"
   ]
  },
  {
   "cell_type": "code",
   "execution_count": 136,
   "id": "d72bce18",
   "metadata": {},
   "outputs": [
    {
     "data": {
      "text/plain": [
       "<AxesSubplot:ylabel='Count'>"
      ]
     },
     "execution_count": 136,
     "metadata": {},
     "output_type": "execute_result"
    },
    {
     "data": {
      "image/png": "[encoded data removed]",
      "text/plain": [
       "<Figure size 432x288 with 1 Axes>"
      ]
     },
     "metadata": {
      "needs_background": "light"
     },
     "output_type": "display_data"
    }
   ],
   "source": [
    "sns.histplot(nd, kde = True)\n",
    "#lognormal distribution"
   ]
  },
  {
   "cell_type": "code",
   "execution_count": null,
   "id": "50e76b1c",
   "metadata": {},
   "outputs": [],
   "source": []
  },
  {
   "cell_type": "code",
   "execution_count": null,
   "id": "23973083",
   "metadata": {},
   "outputs": [],
   "source": []
  },
  {
   "cell_type": "markdown",
   "id": "b4dcb42f",
   "metadata": {},
   "source": [
    "********** converting Lognormal distribution into Normal distribution by using Log **********************"
   ]
  },
  {
   "cell_type": "code",
   "execution_count": null,
   "id": "0e0fe6e8",
   "metadata": {},
   "outputs": [],
   "source": []
  },
  {
   "cell_type": "code",
   "execution_count": 137,
   "id": "8ac10cf7",
   "metadata": {},
   "outputs": [
    {
     "data": {
      "text/plain": [
       "<AxesSubplot:ylabel='Count'>"
      ]
     },
     "execution_count": 137,
     "metadata": {},
     "output_type": "execute_result"
    },
    {
     "data": {
      "image/png": "[encoded data removed]",
      "text/plain": [
       "<Figure size 432x288 with 1 Axes>"
      ]
     },
     "metadata": {
      "needs_background": "light"
     },
     "output_type": "display_data"
    }
   ],
   "source": [
    "sns.histplot(np.log(nd), kde = True)"
   ]
  },
  {
   "cell_type": "code",
   "execution_count": null,
   "id": "4d9fd7e0",
   "metadata": {},
   "outputs": [],
   "source": []
  },
  {
   "cell_type": "code",
   "execution_count": null,
   "id": "294c194b",
   "metadata": {},
   "outputs": [],
   "source": []
  },
  {
   "cell_type": "markdown",
   "id": "c3c6a427",
   "metadata": {},
   "source": [
    "************************* Pearson and Spearman Correlation ****************************************"
   ]
  },
  {
   "cell_type": "code",
   "execution_count": 141,
   "id": "f8bd1e4a",
   "metadata": {},
   "outputs": [
    {
     "data": {
      "text/html": [
       "<div>\n",
       "<style scoped>\n",
       "    .dataframe tbody tr th:only-of-type {\n",
       "        vertical-align: middle;\n",
       "    }\n",
       "\n",
       "    .dataframe tbody tr th {\n",
       "        vertical-align: top;\n",
       "    }\n",
       "\n",
       "    .dataframe thead th {\n",
       "        text-align: right;\n",
       "    }\n",
       "</style>\n",
       "<table border=\"1\" class=\"dataframe\">\n",
       "  <thead>\n",
       "    <tr style=\"text-align: right;\">\n",
       "      <th></th>\n",
       "      <th>sepal_length</th>\n",
       "      <th>sepal_width</th>\n",
       "      <th>petal_length</th>\n",
       "      <th>petal_width</th>\n",
       "      <th>species</th>\n",
       "    </tr>\n",
       "  </thead>\n",
       "  <tbody>\n",
       "    <tr>\n",
       "      <th>0</th>\n",
       "      <td>5.1</td>\n",
       "      <td>3.5</td>\n",
       "      <td>1.4</td>\n",
       "      <td>0.2</td>\n",
       "      <td>setosa</td>\n",
       "    </tr>\n",
       "    <tr>\n",
       "      <th>1</th>\n",
       "      <td>4.9</td>\n",
       "      <td>3.0</td>\n",
       "      <td>1.4</td>\n",
       "      <td>0.2</td>\n",
       "      <td>setosa</td>\n",
       "    </tr>\n",
       "    <tr>\n",
       "      <th>2</th>\n",
       "      <td>4.7</td>\n",
       "      <td>3.2</td>\n",
       "      <td>1.3</td>\n",
       "      <td>0.2</td>\n",
       "      <td>setosa</td>\n",
       "    </tr>\n",
       "    <tr>\n",
       "      <th>3</th>\n",
       "      <td>4.6</td>\n",
       "      <td>3.1</td>\n",
       "      <td>1.5</td>\n",
       "      <td>0.2</td>\n",
       "      <td>setosa</td>\n",
       "    </tr>\n",
       "    <tr>\n",
       "      <th>4</th>\n",
       "      <td>5.0</td>\n",
       "      <td>3.6</td>\n",
       "      <td>1.4</td>\n",
       "      <td>0.2</td>\n",
       "      <td>setosa</td>\n",
       "    </tr>\n",
       "    <tr>\n",
       "      <th>...</th>\n",
       "      <td>...</td>\n",
       "      <td>...</td>\n",
       "      <td>...</td>\n",
       "      <td>...</td>\n",
       "      <td>...</td>\n",
       "    </tr>\n",
       "    <tr>\n",
       "      <th>145</th>\n",
       "      <td>6.7</td>\n",
       "      <td>3.0</td>\n",
       "      <td>5.2</td>\n",
       "      <td>2.3</td>\n",
       "      <td>virginica</td>\n",
       "    </tr>\n",
       "    <tr>\n",
       "      <th>146</th>\n",
       "      <td>6.3</td>\n",
       "      <td>2.5</td>\n",
       "      <td>5.0</td>\n",
       "      <td>1.9</td>\n",
       "      <td>virginica</td>\n",
       "    </tr>\n",
       "    <tr>\n",
       "      <th>147</th>\n",
       "      <td>6.5</td>\n",
       "      <td>3.0</td>\n",
       "      <td>5.2</td>\n",
       "      <td>2.0</td>\n",
       "      <td>virginica</td>\n",
       "    </tr>\n",
       "    <tr>\n",
       "      <th>148</th>\n",
       "      <td>6.2</td>\n",
       "      <td>3.4</td>\n",
       "      <td>5.4</td>\n",
       "      <td>2.3</td>\n",
       "      <td>virginica</td>\n",
       "    </tr>\n",
       "    <tr>\n",
       "      <th>149</th>\n",
       "      <td>5.9</td>\n",
       "      <td>3.0</td>\n",
       "      <td>5.1</td>\n",
       "      <td>1.8</td>\n",
       "      <td>virginica</td>\n",
       "    </tr>\n",
       "  </tbody>\n",
       "</table>\n",
       "<p>150 rows × 5 columns</p>\n",
       "</div>"
      ],
      "text/plain": [
       "     sepal_length  sepal_width  petal_length  petal_width    species\n",
       "0             5.1          3.5           1.4          0.2     setosa\n",
       "1             4.9          3.0           1.4          0.2     setosa\n",
       "2             4.7          3.2           1.3          0.2     setosa\n",
       "3             4.6          3.1           1.5          0.2     setosa\n",
       "4             5.0          3.6           1.4          0.2     setosa\n",
       "..            ...          ...           ...          ...        ...\n",
       "145           6.7          3.0           5.2          2.3  virginica\n",
       "146           6.3          2.5           5.0          1.9  virginica\n",
       "147           6.5          3.0           5.2          2.0  virginica\n",
       "148           6.2          3.4           5.4          2.3  virginica\n",
       "149           5.9          3.0           5.1          1.8  virginica\n",
       "\n",
       "[150 rows x 5 columns]"
      ]
     },
     "execution_count": 141,
     "metadata": {},
     "output_type": "execute_result"
    }
   ],
   "source": [
    "iris_df = sns.load_dataset('iris')\n",
    "iris_df"
   ]
  },
  {
   "cell_type": "markdown",
   "id": "1f323492",
   "metadata": {},
   "source": [
    "Pearson and Spearman Correlation graphically represented by 'Pairplot'"
   ]
  },
  {
   "cell_type": "code",
   "execution_count": 143,
   "id": "43c47c5a",
   "metadata": {},
   "outputs": [
    {
     "data": {
      "text/plain": [
       "<seaborn.axisgrid.PairGrid at 0x221d7a7f7f0>"
      ]
     },
     "execution_count": 143,
     "metadata": {},
     "output_type": "execute_result"
    },
    {
     "data": {
      "image/png": "[encoded data removed]",
      "text/plain": [
       "<Figure size 720x720 with 20 Axes>"
      ]
     },
     "metadata": {
      "needs_background": "light"
     },
     "output_type": "display_data"
    }
   ],
   "source": [
    "sns.pairplot(iris_df) #data must be from pandas dataframe"
   ]
  },
  {
   "cell_type": "code",
   "execution_count": null,
   "id": "70127507",
   "metadata": {},
   "outputs": [],
   "source": []
  },
  {
   "cell_type": "markdown",
   "id": "9124d14f",
   "metadata": {},
   "source": [
    "--------------------------------------xxxxxxxxxxxxxxxxxxxxxxxxxx---------------------------------------------------"
   ]
  }
 ],
 "metadata": {
  "kernelspec": {
   "display_name": "Python 3 (ipykernel)",
   "language": "python",
   "name": "python3"
  },
  "language_info": {
   "codemirror_mode": {
    "name": "ipython",
    "version": 3
   },
   "file_extension": ".py",
   "mimetype": "text/x-python",
   "name": "python",
   "nbconvert_exporter": "python",
   "pygments_lexer": "ipython3",
   "version": "3.9.12"
  }
 },
 "nbformat": 4,
 "nbformat_minor": 5
}
